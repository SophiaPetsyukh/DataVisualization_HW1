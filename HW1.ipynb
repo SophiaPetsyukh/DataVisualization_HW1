{
 "cells": [
  {
   "cell_type": "markdown",
   "id": "2c810f0b-8896-4401-84c3-716ba38bc2a7",
   "metadata": {
    "id": "bA5ajAmk7XH6",
    "tags": []
   },
   "source": [
    "## Homework 1\n"
   ]
  },
  {
   "cell_type": "markdown",
   "id": "a7ead76e-7cbf-4714-b631-c29eb5ebc1fd",
   "metadata": {
    "id": "TAezigD_8u-1"
   },
   "source": [
    "#### 1. Import libraries"
   ]
  },
  {
   "cell_type": "code",
   "execution_count": 104,
   "id": "uniform-isolation",
   "metadata": {},
   "outputs": [],
   "source": [
    "import pandas as pd\n",
    "import altair as alt"
   ]
  },
  {
   "cell_type": "markdown",
   "id": "3b01f59f-b4bb-4b50-ac68-e0dde2c064eb",
   "metadata": {
    "id": "Rm2MvBfC9mYK"
   },
   "source": [
    "#### 2. Read the data\n",
    "We need to skip the first row from the csv file as it just contains the general description of data - \"Land-Ocean: Global Means\"."
   ]
  },
  {
   "cell_type": "code",
   "execution_count": 105,
   "id": "6b633c23-784d-4a5b-b3b7-de2e971e2f91",
   "metadata": {
    "id": "6zXWKexuHxE9",
    "jp-MarkdownHeadingCollapsed": true,
    "tags": []
   },
   "outputs": [
    {
     "data": {
      "text/html": [
       "<div>\n",
       "<style scoped>\n",
       "    .dataframe tbody tr th:only-of-type {\n",
       "        vertical-align: middle;\n",
       "    }\n",
       "\n",
       "    .dataframe tbody tr th {\n",
       "        vertical-align: top;\n",
       "    }\n",
       "\n",
       "    .dataframe thead th {\n",
       "        text-align: right;\n",
       "    }\n",
       "</style>\n",
       "<table border=\"1\" class=\"dataframe\">\n",
       "  <thead>\n",
       "    <tr style=\"text-align: right;\">\n",
       "      <th></th>\n",
       "      <th>Year</th>\n",
       "      <th>Jan</th>\n",
       "      <th>Feb</th>\n",
       "      <th>Mar</th>\n",
       "      <th>Apr</th>\n",
       "      <th>May</th>\n",
       "      <th>Jun</th>\n",
       "      <th>Jul</th>\n",
       "      <th>Aug</th>\n",
       "      <th>Sep</th>\n",
       "      <th>Oct</th>\n",
       "      <th>Nov</th>\n",
       "      <th>Dec</th>\n",
       "      <th>J-D</th>\n",
       "      <th>D-N</th>\n",
       "      <th>DJF</th>\n",
       "      <th>MAM</th>\n",
       "      <th>JJA</th>\n",
       "      <th>SON</th>\n",
       "    </tr>\n",
       "  </thead>\n",
       "  <tbody>\n",
       "    <tr>\n",
       "      <th>0</th>\n",
       "      <td>1880</td>\n",
       "      <td>-0.29</td>\n",
       "      <td>-0.18</td>\n",
       "      <td>-0.11</td>\n",
       "      <td>-0.19</td>\n",
       "      <td>-0.11</td>\n",
       "      <td>-0.23</td>\n",
       "      <td>-0.21</td>\n",
       "      <td>-0.09</td>\n",
       "      <td>-0.16</td>\n",
       "      <td>-0.23</td>\n",
       "      <td>-0.20</td>\n",
       "      <td>-0.23</td>\n",
       "      <td>-0.19</td>\n",
       "      <td>***</td>\n",
       "      <td>***</td>\n",
       "      <td>-0.14</td>\n",
       "      <td>-0.18</td>\n",
       "      <td>-0.20</td>\n",
       "    </tr>\n",
       "    <tr>\n",
       "      <th>1</th>\n",
       "      <td>1881</td>\n",
       "      <td>-0.15</td>\n",
       "      <td>-0.17</td>\n",
       "      <td>0.04</td>\n",
       "      <td>0.04</td>\n",
       "      <td>0.02</td>\n",
       "      <td>-0.20</td>\n",
       "      <td>-0.06</td>\n",
       "      <td>-0.02</td>\n",
       "      <td>-0.13</td>\n",
       "      <td>-0.20</td>\n",
       "      <td>-0.21</td>\n",
       "      <td>-0.10</td>\n",
       "      <td>-0.10</td>\n",
       "      <td>-.11</td>\n",
       "      <td>-.18</td>\n",
       "      <td>0.03</td>\n",
       "      <td>-0.09</td>\n",
       "      <td>-0.18</td>\n",
       "    </tr>\n",
       "    <tr>\n",
       "      <th>2</th>\n",
       "      <td>1882</td>\n",
       "      <td>0.15</td>\n",
       "      <td>0.15</td>\n",
       "      <td>0.04</td>\n",
       "      <td>-0.18</td>\n",
       "      <td>-0.16</td>\n",
       "      <td>-0.26</td>\n",
       "      <td>-0.20</td>\n",
       "      <td>-0.05</td>\n",
       "      <td>-0.10</td>\n",
       "      <td>-0.24</td>\n",
       "      <td>-0.16</td>\n",
       "      <td>-0.24</td>\n",
       "      <td>-0.10</td>\n",
       "      <td>-.09</td>\n",
       "      <td>.06</td>\n",
       "      <td>-0.10</td>\n",
       "      <td>-0.17</td>\n",
       "      <td>-0.17</td>\n",
       "    </tr>\n",
       "    <tr>\n",
       "      <th>3</th>\n",
       "      <td>1883</td>\n",
       "      <td>-0.31</td>\n",
       "      <td>-0.39</td>\n",
       "      <td>-0.13</td>\n",
       "      <td>-0.17</td>\n",
       "      <td>-0.20</td>\n",
       "      <td>-0.12</td>\n",
       "      <td>-0.08</td>\n",
       "      <td>-0.15</td>\n",
       "      <td>-0.20</td>\n",
       "      <td>-0.14</td>\n",
       "      <td>-0.22</td>\n",
       "      <td>-0.16</td>\n",
       "      <td>-0.19</td>\n",
       "      <td>-.20</td>\n",
       "      <td>-.31</td>\n",
       "      <td>-0.16</td>\n",
       "      <td>-0.12</td>\n",
       "      <td>-0.19</td>\n",
       "    </tr>\n",
       "    <tr>\n",
       "      <th>4</th>\n",
       "      <td>1884</td>\n",
       "      <td>-0.15</td>\n",
       "      <td>-0.08</td>\n",
       "      <td>-0.37</td>\n",
       "      <td>-0.42</td>\n",
       "      <td>-0.36</td>\n",
       "      <td>-0.40</td>\n",
       "      <td>-0.34</td>\n",
       "      <td>-0.26</td>\n",
       "      <td>-0.27</td>\n",
       "      <td>-0.24</td>\n",
       "      <td>-0.30</td>\n",
       "      <td>-0.28</td>\n",
       "      <td>-0.29</td>\n",
       "      <td>-.28</td>\n",
       "      <td>-.13</td>\n",
       "      <td>-0.39</td>\n",
       "      <td>-0.34</td>\n",
       "      <td>-0.27</td>\n",
       "    </tr>\n",
       "  </tbody>\n",
       "</table>\n",
       "</div>"
      ],
      "text/plain": [
       "   Year   Jan   Feb   Mar   Apr   May   Jun   Jul   Aug   Sep   Oct   Nov  \\\n",
       "0  1880 -0.29 -0.18 -0.11 -0.19 -0.11 -0.23 -0.21 -0.09 -0.16 -0.23 -0.20   \n",
       "1  1881 -0.15 -0.17  0.04  0.04  0.02 -0.20 -0.06 -0.02 -0.13 -0.20 -0.21   \n",
       "2  1882  0.15  0.15  0.04 -0.18 -0.16 -0.26 -0.20 -0.05 -0.10 -0.24 -0.16   \n",
       "3  1883 -0.31 -0.39 -0.13 -0.17 -0.20 -0.12 -0.08 -0.15 -0.20 -0.14 -0.22   \n",
       "4  1884 -0.15 -0.08 -0.37 -0.42 -0.36 -0.40 -0.34 -0.26 -0.27 -0.24 -0.30   \n",
       "\n",
       "    Dec   J-D   D-N   DJF   MAM   JJA   SON  \n",
       "0 -0.23 -0.19   ***   *** -0.14 -0.18 -0.20  \n",
       "1 -0.10 -0.10  -.11  -.18  0.03 -0.09 -0.18  \n",
       "2 -0.24 -0.10  -.09   .06 -0.10 -0.17 -0.17  \n",
       "3 -0.16 -0.19  -.20  -.31 -0.16 -0.12 -0.19  \n",
       "4 -0.28 -0.29  -.28  -.13 -0.39 -0.34 -0.27  "
      ]
     },
     "execution_count": 105,
     "metadata": {},
     "output_type": "execute_result"
    }
   ],
   "source": [
    "df = pd.read_csv('GLB.Ts_dSST.csv', skiprows=1)\n",
    "df.head()"
   ]
  },
  {
   "cell_type": "markdown",
   "id": "687170a5-54c9-4c30-b0c1-c9c590eb0d15",
   "metadata": {},
   "source": [
    "#### 3. Create the main chart\n",
    "Let's firstly create the main chart with our data points - average temperature for each year. For average temperature values we will use \"J-D\" column."
   ]
  },
  {
   "cell_type": "code",
   "execution_count": 106,
   "id": "33efd544-feb8-4da2-a1c7-c1d07aeffcc9",
   "metadata": {},
   "outputs": [],
   "source": [
    "mainChart = alt.Chart(df).mark_point(filled = True,\n",
    "                                     size = 65,\n",
    "                                     color = \"orangered\", \n",
    "                                     strokeWidth = 1, \n",
    "                                     stroke = \"black\"\n",
    "                                    ).encode(x = alt.X(\"Year:Q\",\n",
    "                                                       title = None,\n",
    "                                                       scale = alt.Scale(domain = [1880, 2020]),\n",
    "                                                       axis = alt.Axis(format = \"1000f\",\n",
    "                                                                       tickMinStep = 10,\n",
    "                                                                       tickCount = 10,\n",
    "                                                                       tickColor=\"white\",\n",
    "                                                                       labelColor = \"grey\",\n",
    "                                                                       labelOpacity = 0.7,\n",
    "                                                                       labelPadding = 5,\n",
    "                                                                       labelFontSize = 12,\n",
    "                                                                       domainColor = \"white\")),\n",
    "                                             y = alt.Y(\"J-D:Q\",\n",
    "                                                       title = None,\n",
    "                                                       axis = alt.Axis(format = \"+.1f\",\n",
    "                                                                       tickMinStep = 0.2,\n",
    "                                                                       tickCount=9,\n",
    "                                                                       tickColor=\"grey\",\n",
    "                                                                       tickOpacity=0.3,\n",
    "                                                                       labelColor=\"grey\",\n",
    "                                                                       labelOpacity=0.7,\n",
    "                                                                       labelPadding=5,\n",
    "                                                                       labelFontSize=12,\n",
    "                                                                       domainOpacity = 0)))"
   ]
  },
  {
   "cell_type": "markdown",
   "id": "2057bb38-c838-4b5d-89db-25141c6c4da9",
   "metadata": {},
   "source": [
    "#### 4. Add average 1880-1899 line and description for it\n",
    "Now let's add the line, which will divide points on the chart in two groups: hotter than the 1880-1899 average and colder. To find out were to place the line, we should firstly find the 1880-1899 average temperature. After building a chart with the line, let's also prepare explanatory text. "
   ]
  },
  {
   "cell_type": "code",
   "execution_count": 111,
   "id": "7a55fb42-7538-4f33-84cb-884ec1957a7e",
   "metadata": {},
   "outputs": [],
   "source": [
    "line = df.loc[df[\"Year\"] <= 1899][\"J-D\"].mean()\n",
    "line_chart = alt.Chart(pd.DataFrame({\"y\": [line]})).mark_rule(color=\"black\", opacity=0.5).encode(y=\"y\")\n",
    "\n",
    "hotter_text = alt.Chart({\"values\":[{\"X\": 2020, \"Y\": -0.15}]}).mark_text(align = \"right\",\n",
    "                                                                        fontSize = 12,\n",
    "                                                                        fontWeight = 200,\n",
    "                                                                        text = \"HOTTER THAN THE \\n1880-1899 AVERAGE\",\n",
    "                                                                        lineBreak = \"\\n\").encode(x = \"X:Q\",\n",
    "                                                                                               y = \"Y:Q\")\n",
    "\n",
    "colder_text = alt.Chart({'values':[{'X': 2020, 'Y': -0.27}]}).mark_text(align='right',\n",
    "                                                                        fontSize=12,\n",
    "                                                                        fontWeight = 200,\n",
    "                                                                        text='COLDER').encode(x='X:Q',\n",
    "                                                                                              y='Y:Q')"
   ]
  },
  {
   "cell_type": "markdown",
   "id": "2ae0a6a4-1016-4aaa-90a0-f5654e4e0501",
   "metadata": {},
   "source": [
    "#### 5. Add year labels\n",
    "Some of the points on the given chart are labeled, so we can visualize this by preparing charts with years that have to be on the left side from the points, years that have to be on the right and in bold."
   ]
  },
  {
   "cell_type": "code",
   "execution_count": 112,
   "id": "3e198d70-93a8-4433-abea-87355955189e",
   "metadata": {},
   "outputs": [],
   "source": [
    "df_years_left = df[df[\"Year\"].isin([1904, 1998])]\n",
    "df_years_right = df[df[\"Year\"].isin([1944, 2014, 2015, 2017])]\n",
    "df_bold_years = df[df[\"Year\"].isin([2016])]\n",
    "\n",
    "text_left = alt.Chart(df_years_left).mark_text(align = \"left\",\n",
    "                                               dx = -35,\n",
    "                                               fontSize = 12,\n",
    "                                               fontWeight = 200\n",
    "                                              ).encode(text = \"Year:O\",\n",
    "                                                       y = \"J-D:Q\",\n",
    "                                                       x = \"Year:Q\")\n",
    "text_right = alt.Chart(df_years_right).mark_text(align = \"right\",\n",
    "                                               dx=35,\n",
    "                                               fontSize=12,\n",
    "                                               fontWeight=200\n",
    "                                              ).encode(text = \"Year:O\",\n",
    "                                                       y = \"J-D:Q\",\n",
    "                                                       x = \"Year:Q\")\n",
    "\n",
    "bold_text = alt.Chart(df_bold_years).mark_text(\n",
    "    align = \"right\",\n",
    "    dx = 35,\n",
    "    fontSize = 12,\n",
    "    fontWeight = \"bold\").encode(text = \"Year:O\",\n",
    "                              y = \"J-D:Q\",\n",
    "                              x = \"Year:Q\")"
   ]
  },
  {
   "cell_type": "markdown",
   "id": "4393a933-a3e3-4a37-a6cc-db85d49bd253",
   "metadata": {},
   "source": [
    "#### 6. Add chart title"
   ]
  },
  {
   "cell_type": "code",
   "execution_count": 113,
   "id": "dec7d1c8-2e77-4fc8-ac01-2b921c939cab",
   "metadata": {},
   "outputs": [],
   "source": [
    "chart_title = alt.Chart({\"values\":[{\"X\": 1885, \"Y\": 0.89}]}).mark_text(align = \"left\",\n",
    "                                                                       fontSize = 15,\n",
    "                                                                       fontWeight = \"bold\",\n",
    "                                                                       text = \"Annual Global Surface Temperature, \\nRelative to Late 19th Century Average\",\n",
    "                                                                       lineBreak = \"\\n\").encode(x = \"X:Q\", y = \"Y:Q\")"
   ]
  },
  {
   "cell_type": "markdown",
   "id": "2d21c5eb-f3bc-4415-b27a-fe9c0d15b7b7",
   "metadata": {},
   "source": [
    "#### 7. Collect all parts into one chart"
   ]
  },
  {
   "cell_type": "code",
   "execution_count": 114,
   "id": "7d110c73-fa09-4192-8b39-e2df9e9f7535",
   "metadata": {},
   "outputs": [
    {
     "data": {
      "text/html": [
       "\n",
       "<div id=\"altair-viz-b7b18d0c2c884443ba7160a65e0d92ff\"></div>\n",
       "<script type=\"text/javascript\">\n",
       "  (function(spec, embedOpt){\n",
       "    let outputDiv = document.currentScript.previousElementSibling;\n",
       "    if (outputDiv.id !== \"altair-viz-b7b18d0c2c884443ba7160a65e0d92ff\") {\n",
       "      outputDiv = document.getElementById(\"altair-viz-b7b18d0c2c884443ba7160a65e0d92ff\");\n",
       "    }\n",
       "    const paths = {\n",
       "      \"vega\": \"https://cdn.jsdelivr.net/npm//vega@5?noext\",\n",
       "      \"vega-lib\": \"https://cdn.jsdelivr.net/npm//vega-lib?noext\",\n",
       "      \"vega-lite\": \"https://cdn.jsdelivr.net/npm//vega-lite@4.8.1?noext\",\n",
       "      \"vega-embed\": \"https://cdn.jsdelivr.net/npm//vega-embed@6?noext\",\n",
       "    };\n",
       "\n",
       "    function loadScript(lib) {\n",
       "      return new Promise(function(resolve, reject) {\n",
       "        var s = document.createElement('script');\n",
       "        s.src = paths[lib];\n",
       "        s.async = true;\n",
       "        s.onload = () => resolve(paths[lib]);\n",
       "        s.onerror = () => reject(`Error loading script: ${paths[lib]}`);\n",
       "        document.getElementsByTagName(\"head\")[0].appendChild(s);\n",
       "      });\n",
       "    }\n",
       "\n",
       "    function showError(err) {\n",
       "      outputDiv.innerHTML = `<div class=\"error\" style=\"color:red;\">${err}</div>`;\n",
       "      throw err;\n",
       "    }\n",
       "\n",
       "    function displayChart(vegaEmbed) {\n",
       "      vegaEmbed(outputDiv, spec, embedOpt)\n",
       "        .catch(err => showError(`Javascript Error: ${err.message}<br>This usually means there's a typo in your chart specification. See the javascript console for the full traceback.`));\n",
       "    }\n",
       "\n",
       "    if(typeof define === \"function\" && define.amd) {\n",
       "      requirejs.config({paths});\n",
       "      require([\"vega-embed\"], displayChart, err => showError(`Error loading script: ${err.message}`));\n",
       "    } else if (typeof vegaEmbed === \"function\") {\n",
       "      displayChart(vegaEmbed);\n",
       "    } else {\n",
       "      loadScript(\"vega\")\n",
       "        .then(() => loadScript(\"vega-lite\"))\n",
       "        .then(() => loadScript(\"vega-embed\"))\n",
       "        .catch(showError)\n",
       "        .then(() => displayChart(vegaEmbed));\n",
       "    }\n",
       "  })({\"config\": {\"view\": {\"continuousWidth\": 400, \"continuousHeight\": 300, \"strokeWidth\": 0}}, \"layer\": [{\"data\": {\"name\": \"data-6eb15bf4e6e5f2c724f1ade2ba988bfb\"}, \"mark\": {\"type\": \"point\", \"color\": \"orangered\", \"filled\": true, \"size\": 65, \"stroke\": \"black\", \"strokeWidth\": 1}, \"encoding\": {\"x\": {\"type\": \"quantitative\", \"axis\": {\"domainColor\": \"white\", \"format\": \"1000f\", \"labelColor\": \"grey\", \"labelFontSize\": 12, \"labelOpacity\": 0.7, \"labelPadding\": 5, \"tickColor\": \"white\", \"tickCount\": 10, \"tickMinStep\": 10}, \"field\": \"Year\", \"scale\": {\"domain\": [1880, 2020]}, \"title\": null}, \"y\": {\"type\": \"quantitative\", \"axis\": {\"domainOpacity\": 0, \"format\": \"+.1f\", \"labelColor\": \"grey\", \"labelFontSize\": 12, \"labelOpacity\": 0.7, \"labelPadding\": 5, \"tickColor\": \"grey\", \"tickCount\": 9, \"tickMinStep\": 0.2, \"tickOpacity\": 0.3}, \"field\": \"J-D\", \"title\": null}}}, {\"data\": {\"name\": \"data-7a308401a6c4dd4e370c4729ef7bbfe2\"}, \"mark\": {\"type\": \"rule\", \"color\": \"black\", \"opacity\": 0.5}, \"encoding\": {\"y\": {\"type\": \"quantitative\", \"field\": \"y\"}}}, {\"data\": {\"name\": \"data-b47fb05836352c68f302dae248cf58f3\"}, \"mark\": {\"type\": \"text\", \"align\": \"left\", \"fontSize\": 15, \"fontWeight\": \"bold\", \"lineBreak\": \"\\n\", \"text\": \"Annual Global Surface Temperature, \\nRelative to Late 19th Century Average\"}, \"encoding\": {\"x\": {\"type\": \"quantitative\", \"field\": \"X\"}, \"y\": {\"type\": \"quantitative\", \"field\": \"Y\"}}}, {\"data\": {\"name\": \"data-3e1c78bd25d70dd2cb1bc499fe586176\"}, \"mark\": {\"type\": \"text\", \"align\": \"right\", \"fontSize\": 12, \"fontWeight\": 200, \"text\": \"COLDER\"}, \"encoding\": {\"x\": {\"type\": \"quantitative\", \"field\": \"X\"}, \"y\": {\"type\": \"quantitative\", \"field\": \"Y\"}}}, {\"data\": {\"name\": \"data-9822e5aeddffd11f0a1c965d307d6fb6\"}, \"mark\": {\"type\": \"text\", \"align\": \"right\", \"fontSize\": 12, \"fontWeight\": 200, \"lineBreak\": \"\\n\", \"text\": \"HOTTER THAN THE \\n1880-1899 AVERAGE\"}, \"encoding\": {\"x\": {\"type\": \"quantitative\", \"field\": \"X\"}, \"y\": {\"type\": \"quantitative\", \"field\": \"Y\"}}}, {\"data\": {\"name\": \"data-af999379bd3cab571051fd1cb6c99a9b\"}, \"mark\": {\"type\": \"text\", \"align\": \"right\", \"dx\": 35, \"fontSize\": 12, \"fontWeight\": \"bold\"}, \"encoding\": {\"text\": {\"type\": \"ordinal\", \"field\": \"Year\"}, \"x\": {\"type\": \"quantitative\", \"field\": \"Year\"}, \"y\": {\"type\": \"quantitative\", \"field\": \"J-D\"}}}, {\"data\": {\"name\": \"data-a5ded0b48a0ceaa600ea7ebe2dc2ffd7\"}, \"mark\": {\"type\": \"text\", \"align\": \"left\", \"dx\": -35, \"fontSize\": 12, \"fontWeight\": 200}, \"encoding\": {\"text\": {\"type\": \"ordinal\", \"field\": \"Year\"}, \"x\": {\"type\": \"quantitative\", \"field\": \"Year\"}, \"y\": {\"type\": \"quantitative\", \"field\": \"J-D\"}}}, {\"data\": {\"name\": \"data-837c41dbc42138c8728fee56f06d7093\"}, \"mark\": {\"type\": \"text\", \"align\": \"right\", \"dx\": 35, \"fontSize\": 12, \"fontWeight\": 200}, \"encoding\": {\"text\": {\"type\": \"ordinal\", \"field\": \"Year\"}, \"x\": {\"type\": \"quantitative\", \"field\": \"Year\"}, \"y\": {\"type\": \"quantitative\", \"field\": \"J-D\"}}}], \"background\": \"white\", \"height\": 500, \"padding\": 25, \"width\": 950, \"$schema\": \"https://vega.github.io/schema/vega-lite/v4.8.1.json\", \"datasets\": {\"data-6eb15bf4e6e5f2c724f1ade2ba988bfb\": [{\"Year\": 1880, \"Jan\": -0.29, \"Feb\": -0.18, \"Mar\": -0.11, \"Apr\": -0.19, \"May\": -0.11, \"Jun\": -0.23, \"Jul\": -0.21, \"Aug\": -0.09, \"Sep\": -0.16, \"Oct\": -0.23, \"Nov\": -0.2, \"Dec\": -0.23, \"J-D\": -0.19, \"D-N\": \"***\", \"DJF\": \"***\", \"MAM\": -0.14, \"JJA\": -0.18, \"SON\": -0.2}, {\"Year\": 1881, \"Jan\": -0.15, \"Feb\": -0.17, \"Mar\": 0.04, \"Apr\": 0.04, \"May\": 0.02, \"Jun\": -0.2, \"Jul\": -0.06, \"Aug\": -0.02, \"Sep\": -0.13, \"Oct\": -0.2, \"Nov\": -0.21, \"Dec\": -0.1, \"J-D\": -0.1, \"D-N\": \"-.11\", \"DJF\": \"-.18\", \"MAM\": 0.03, \"JJA\": -0.09, \"SON\": -0.18}, {\"Year\": 1882, \"Jan\": 0.15, \"Feb\": 0.15, \"Mar\": 0.04, \"Apr\": -0.18, \"May\": -0.16, \"Jun\": -0.26, \"Jul\": -0.2, \"Aug\": -0.05, \"Sep\": -0.1, \"Oct\": -0.24, \"Nov\": -0.16, \"Dec\": -0.24, \"J-D\": -0.1, \"D-N\": \"-.09\", \"DJF\": \".06\", \"MAM\": -0.1, \"JJA\": -0.17, \"SON\": -0.17}, {\"Year\": 1883, \"Jan\": -0.31, \"Feb\": -0.39, \"Mar\": -0.13, \"Apr\": -0.17, \"May\": -0.2, \"Jun\": -0.12, \"Jul\": -0.08, \"Aug\": -0.15, \"Sep\": -0.2, \"Oct\": -0.14, \"Nov\": -0.22, \"Dec\": -0.16, \"J-D\": -0.19, \"D-N\": \"-.20\", \"DJF\": \"-.31\", \"MAM\": -0.16, \"JJA\": -0.12, \"SON\": -0.19}, {\"Year\": 1884, \"Jan\": -0.15, \"Feb\": -0.08, \"Mar\": -0.37, \"Apr\": -0.42, \"May\": -0.36, \"Jun\": -0.4, \"Jul\": -0.34, \"Aug\": -0.26, \"Sep\": -0.27, \"Oct\": -0.24, \"Nov\": -0.3, \"Dec\": -0.28, \"J-D\": -0.29, \"D-N\": \"-.28\", \"DJF\": \"-.13\", \"MAM\": -0.39, \"JJA\": -0.34, \"SON\": -0.27}, {\"Year\": 1885, \"Jan\": -0.58, \"Feb\": -0.3, \"Mar\": -0.25, \"Apr\": -0.42, \"May\": -0.42, \"Jun\": -0.44, \"Jul\": -0.35, \"Aug\": -0.31, \"Sep\": -0.23, \"Oct\": -0.19, \"Nov\": -0.19, \"Dec\": -0.05, \"J-D\": -0.31, \"D-N\": \"-.33\", \"DJF\": \"-.39\", \"MAM\": -0.36, \"JJA\": -0.36, \"SON\": -0.2}, {\"Year\": 1886, \"Jan\": -0.42, \"Feb\": -0.45, \"Mar\": -0.38, \"Apr\": -0.27, \"May\": -0.26, \"Jun\": -0.38, \"Jul\": -0.21, \"Aug\": -0.33, \"Sep\": -0.25, \"Oct\": -0.28, \"Nov\": -0.31, \"Dec\": -0.26, \"J-D\": -0.32, \"D-N\": \"-.30\", \"DJF\": \"-.30\", \"MAM\": -0.3, \"JJA\": -0.31, \"SON\": -0.28}, {\"Year\": 1887, \"Jan\": -0.72, \"Feb\": -0.52, \"Mar\": -0.34, \"Apr\": -0.38, \"May\": -0.32, \"Jun\": -0.23, \"Jul\": -0.23, \"Aug\": -0.32, \"Sep\": -0.22, \"Oct\": -0.32, \"Nov\": -0.23, \"Dec\": -0.33, \"J-D\": -0.35, \"D-N\": \"-.34\", \"DJF\": \"-.50\", \"MAM\": -0.34, \"JJA\": -0.26, \"SON\": -0.26}, {\"Year\": 1888, \"Jan\": -0.37, \"Feb\": -0.36, \"Mar\": -0.41, \"Apr\": -0.22, \"May\": -0.22, \"Jun\": -0.18, \"Jul\": -0.1, \"Aug\": -0.16, \"Sep\": -0.1, \"Oct\": 0.02, \"Nov\": 0.01, \"Dec\": -0.06, \"J-D\": -0.18, \"D-N\": \"-.20\", \"DJF\": \"-.35\", \"MAM\": -0.28, \"JJA\": -0.15, \"SON\": -0.02}, {\"Year\": 1889, \"Jan\": -0.11, \"Feb\": 0.18, \"Mar\": 0.08, \"Apr\": 0.07, \"May\": -0.02, \"Jun\": -0.14, \"Jul\": -0.1, \"Aug\": -0.2, \"Sep\": -0.22, \"Oct\": -0.22, \"Nov\": -0.33, \"Dec\": -0.3, \"J-D\": -0.11, \"D-N\": \"-.09\", \"DJF\": \".00\", \"MAM\": 0.04, \"JJA\": -0.14, \"SON\": -0.26}, {\"Year\": 1890, \"Jan\": -0.44, \"Feb\": -0.45, \"Mar\": -0.4, \"Apr\": -0.37, \"May\": -0.46, \"Jun\": -0.27, \"Jul\": -0.27, \"Aug\": -0.38, \"Sep\": -0.4, \"Oct\": -0.24, \"Nov\": -0.48, \"Dec\": -0.31, \"J-D\": -0.37, \"D-N\": \"-.37\", \"DJF\": \"-.40\", \"MAM\": -0.41, \"JJA\": -0.31, \"SON\": -0.37}, {\"Year\": 1891, \"Jan\": -0.42, \"Feb\": -0.49, \"Mar\": -0.19, \"Apr\": -0.29, \"May\": -0.19, \"Jun\": -0.21, \"Jul\": -0.21, \"Aug\": -0.16, \"Sep\": -0.15, \"Oct\": -0.22, \"Nov\": -0.35, \"Dec\": -0.05, \"J-D\": -0.24, \"D-N\": \"-.27\", \"DJF\": \"-.41\", \"MAM\": -0.22, \"JJA\": -0.19, \"SON\": -0.24}, {\"Year\": 1892, \"Jan\": -0.28, \"Feb\": -0.12, \"Mar\": -0.36, \"Apr\": -0.35, \"May\": -0.25, \"Jun\": -0.23, \"Jul\": -0.32, \"Aug\": -0.25, \"Sep\": -0.13, \"Oct\": -0.12, \"Nov\": -0.41, \"Dec\": -0.38, \"J-D\": -0.27, \"D-N\": \"-.24\", \"DJF\": \"-.15\", \"MAM\": -0.32, \"JJA\": -0.27, \"SON\": -0.22}, {\"Year\": 1893, \"Jan\": -0.8, \"Feb\": -0.54, \"Mar\": -0.23, \"Apr\": -0.3, \"May\": -0.36, \"Jun\": -0.28, \"Jul\": -0.16, \"Aug\": -0.27, \"Sep\": -0.21, \"Oct\": -0.17, \"Nov\": -0.17, \"Dec\": -0.35, \"J-D\": -0.32, \"D-N\": \"-.32\", \"DJF\": \"-.57\", \"MAM\": -0.29, \"JJA\": -0.24, \"SON\": -0.18}, {\"Year\": 1894, \"Jan\": -0.53, \"Feb\": -0.34, \"Mar\": -0.25, \"Apr\": -0.48, \"May\": -0.35, \"Jun\": -0.44, \"Jul\": -0.26, \"Aug\": -0.22, \"Sep\": -0.25, \"Oct\": -0.21, \"Nov\": -0.25, \"Dec\": -0.2, \"J-D\": -0.32, \"D-N\": \"-.33\", \"DJF\": \"-.41\", \"MAM\": -0.36, \"JJA\": -0.31, \"SON\": -0.24}, {\"Year\": 1895, \"Jan\": -0.44, \"Feb\": -0.43, \"Mar\": -0.28, \"Apr\": -0.25, \"May\": -0.27, \"Jun\": -0.24, \"Jul\": -0.17, \"Aug\": -0.16, \"Sep\": -0.09, \"Oct\": -0.08, \"Nov\": -0.14, \"Dec\": -0.15, \"J-D\": -0.22, \"D-N\": \"-.23\", \"DJF\": \"-.35\", \"MAM\": -0.27, \"JJA\": -0.19, \"SON\": -0.11}, {\"Year\": 1896, \"Jan\": -0.26, \"Feb\": -0.14, \"Mar\": -0.26, \"Apr\": -0.3, \"May\": -0.18, \"Jun\": -0.14, \"Jul\": -0.03, \"Aug\": -0.04, \"Sep\": -0.03, \"Oct\": 0.12, \"Nov\": -0.07, \"Dec\": -0.04, \"J-D\": -0.11, \"D-N\": \"-.12\", \"DJF\": \"-.18\", \"MAM\": -0.25, \"JJA\": -0.07, \"SON\": 0.0}, {\"Year\": 1897, \"Jan\": -0.14, \"Feb\": -0.15, \"Mar\": -0.13, \"Apr\": -0.02, \"May\": -0.05, \"Jun\": -0.16, \"Jul\": -0.07, \"Aug\": -0.11, \"Sep\": -0.08, \"Oct\": -0.12, \"Nov\": -0.19, \"Dec\": -0.19, \"J-D\": -0.12, \"D-N\": \"-.10\", \"DJF\": \"-.11\", \"MAM\": -0.07, \"JJA\": -0.11, \"SON\": -0.13}, {\"Year\": 1898, \"Jan\": -0.02, \"Feb\": -0.28, \"Mar\": -0.51, \"Apr\": -0.32, \"May\": -0.32, \"Jun\": -0.2, \"Jul\": -0.24, \"Aug\": -0.25, \"Sep\": -0.21, \"Oct\": -0.34, \"Nov\": -0.38, \"Dec\": -0.25, \"J-D\": -0.28, \"D-N\": \"-.27\", \"DJF\": \"-.16\", \"MAM\": -0.38, \"JJA\": -0.23, \"SON\": -0.31}, {\"Year\": 1899, \"Jan\": -0.19, \"Feb\": -0.41, \"Mar\": -0.34, \"Apr\": -0.21, \"May\": -0.23, \"Jun\": -0.33, \"Jul\": -0.18, \"Aug\": -0.07, \"Sep\": -0.03, \"Oct\": -0.05, \"Nov\": 0.12, \"Dec\": -0.28, \"J-D\": -0.18, \"D-N\": \"-.18\", \"DJF\": \"-.28\", \"MAM\": -0.26, \"JJA\": -0.19, \"SON\": 0.01}, {\"Year\": 1900, \"Jan\": -0.37, \"Feb\": -0.03, \"Mar\": 0.01, \"Apr\": -0.12, \"May\": -0.1, \"Jun\": -0.13, \"Jul\": -0.13, \"Aug\": -0.1, \"Sep\": -0.05, \"Oct\": 0.09, \"Nov\": -0.1, \"Dec\": -0.07, \"J-D\": -0.09, \"D-N\": \"-.11\", \"DJF\": \"-.23\", \"MAM\": -0.07, \"JJA\": -0.12, \"SON\": -0.02}, {\"Year\": 1901, \"Jan\": -0.24, \"Feb\": -0.04, \"Mar\": 0.08, \"Apr\": -0.04, \"May\": -0.17, \"Jun\": -0.13, \"Jul\": -0.15, \"Aug\": -0.2, \"Sep\": -0.22, \"Oct\": -0.31, \"Nov\": -0.17, \"Dec\": -0.28, \"J-D\": -0.15, \"D-N\": \"-.14\", \"DJF\": \"-.11\", \"MAM\": -0.04, \"JJA\": -0.16, \"SON\": -0.23}, {\"Year\": 1902, \"Jan\": -0.2, \"Feb\": -0.04, \"Mar\": -0.29, \"Apr\": -0.31, \"May\": -0.36, \"Jun\": -0.35, \"Jul\": -0.29, \"Aug\": -0.33, \"Sep\": -0.3, \"Oct\": -0.31, \"Nov\": -0.39, \"Dec\": -0.46, \"J-D\": -0.3, \"D-N\": \"-.29\", \"DJF\": \"-.17\", \"MAM\": -0.32, \"JJA\": -0.33, \"SON\": -0.33}, {\"Year\": 1903, \"Jan\": -0.26, \"Feb\": -0.05, \"Mar\": -0.23, \"Apr\": -0.43, \"May\": -0.45, \"Jun\": -0.47, \"Jul\": -0.38, \"Aug\": -0.49, \"Sep\": -0.49, \"Oct\": -0.49, \"Nov\": -0.45, \"Dec\": -0.53, \"J-D\": -0.39, \"D-N\": \"-.39\", \"DJF\": \"-.26\", \"MAM\": -0.37, \"JJA\": -0.44, \"SON\": -0.47}, {\"Year\": 1904, \"Jan\": -0.67, \"Feb\": -0.59, \"Mar\": -0.51, \"Apr\": -0.55, \"May\": -0.56, \"Jun\": -0.51, \"Jul\": -0.54, \"Aug\": -0.51, \"Sep\": -0.53, \"Oct\": -0.4, \"Nov\": -0.22, \"Dec\": -0.35, \"J-D\": -0.49, \"D-N\": \"-.51\", \"DJF\": \"-.60\", \"MAM\": -0.54, \"JJA\": -0.52, \"SON\": -0.38}, {\"Year\": 1905, \"Jan\": -0.4, \"Feb\": -0.6, \"Mar\": -0.23, \"Apr\": -0.36, \"May\": -0.33, \"Jun\": -0.31, \"Jul\": -0.29, \"Aug\": -0.22, \"Sep\": -0.19, \"Oct\": -0.26, \"Nov\": -0.1, \"Dec\": -0.18, \"J-D\": -0.29, \"D-N\": \"-.30\", \"DJF\": \"-.45\", \"MAM\": -0.31, \"JJA\": -0.28, \"SON\": -0.18}, {\"Year\": 1906, \"Jan\": -0.28, \"Feb\": -0.31, \"Mar\": -0.17, \"Apr\": -0.04, \"May\": -0.25, \"Jun\": -0.21, \"Jul\": -0.25, \"Aug\": -0.2, \"Sep\": -0.27, \"Oct\": -0.19, \"Nov\": -0.39, \"Dec\": -0.17, \"J-D\": -0.23, \"D-N\": \"-.23\", \"DJF\": \"-.26\", \"MAM\": -0.15, \"JJA\": -0.22, \"SON\": -0.28}, {\"Year\": 1907, \"Jan\": -0.42, \"Feb\": -0.52, \"Mar\": -0.26, \"Apr\": -0.38, \"May\": -0.47, \"Jun\": -0.44, \"Jul\": -0.37, \"Aug\": -0.35, \"Sep\": -0.33, \"Oct\": -0.25, \"Nov\": -0.49, \"Dec\": -0.48, \"J-D\": -0.4, \"D-N\": \"-.37\", \"DJF\": \"-.37\", \"MAM\": -0.37, \"JJA\": -0.39, \"SON\": -0.36}, {\"Year\": 1908, \"Jan\": -0.43, \"Feb\": -0.31, \"Mar\": -0.54, \"Apr\": -0.46, \"May\": -0.41, \"Jun\": -0.42, \"Jul\": -0.4, \"Aug\": -0.47, \"Sep\": -0.36, \"Oct\": -0.45, \"Nov\": -0.5, \"Dec\": -0.5, \"J-D\": -0.44, \"D-N\": \"-.44\", \"DJF\": \"-.41\", \"MAM\": -0.47, \"JJA\": -0.43, \"SON\": -0.44}, {\"Year\": 1909, \"Jan\": -0.69, \"Feb\": -0.47, \"Mar\": -0.52, \"Apr\": -0.6, \"May\": -0.56, \"Jun\": -0.53, \"Jul\": -0.45, \"Aug\": -0.32, \"Sep\": -0.36, \"Oct\": -0.37, \"Nov\": -0.31, \"Dec\": -0.55, \"J-D\": -0.48, \"D-N\": \"-.47\", \"DJF\": \"-.55\", \"MAM\": -0.56, \"JJA\": -0.43, \"SON\": -0.35}, {\"Year\": 1910, \"Jan\": -0.45, \"Feb\": -0.45, \"Mar\": -0.52, \"Apr\": -0.41, \"May\": -0.36, \"Jun\": -0.38, \"Jul\": -0.35, \"Aug\": -0.37, \"Sep\": -0.37, \"Oct\": -0.39, \"Nov\": -0.54, \"Dec\": -0.67, \"J-D\": -0.44, \"D-N\": \"-.43\", \"DJF\": \"-.48\", \"MAM\": -0.43, \"JJA\": -0.37, \"SON\": -0.43}, {\"Year\": 1911, \"Jan\": -0.63, \"Feb\": -0.58, \"Mar\": -0.6, \"Apr\": -0.53, \"May\": -0.52, \"Jun\": -0.48, \"Jul\": -0.41, \"Aug\": -0.42, \"Sep\": -0.37, \"Oct\": -0.23, \"Nov\": -0.18, \"Dec\": -0.21, \"J-D\": -0.43, \"D-N\": \"-.47\", \"DJF\": \"-.63\", \"MAM\": -0.55, \"JJA\": -0.43, \"SON\": -0.26}, {\"Year\": 1912, \"Jan\": -0.26, \"Feb\": -0.12, \"Mar\": -0.35, \"Apr\": -0.19, \"May\": -0.22, \"Jun\": -0.26, \"Jul\": -0.44, \"Aug\": -0.54, \"Sep\": -0.51, \"Oct\": -0.56, \"Nov\": -0.38, \"Dec\": -0.44, \"J-D\": -0.36, \"D-N\": \"-.34\", \"DJF\": \"-.20\", \"MAM\": -0.25, \"JJA\": -0.41, \"SON\": -0.48}, {\"Year\": 1913, \"Jan\": -0.42, \"Feb\": -0.43, \"Mar\": -0.43, \"Apr\": -0.39, \"May\": -0.46, \"Jun\": -0.48, \"Jul\": -0.36, \"Aug\": -0.34, \"Sep\": -0.35, \"Oct\": -0.33, \"Nov\": -0.19, \"Dec\": -0.03, \"J-D\": -0.35, \"D-N\": \"-.38\", \"DJF\": \"-.43\", \"MAM\": -0.43, \"JJA\": -0.39, \"SON\": -0.29}, {\"Year\": 1914, \"Jan\": 0.04, \"Feb\": -0.11, \"Mar\": -0.22, \"Apr\": -0.29, \"May\": -0.23, \"Jun\": -0.26, \"Jul\": -0.24, \"Aug\": -0.14, \"Sep\": -0.13, \"Oct\": -0.04, \"Nov\": -0.18, \"Dec\": -0.08, \"J-D\": -0.16, \"D-N\": \"-.15\", \"DJF\": \"-.03\", \"MAM\": -0.25, \"JJA\": -0.21, \"SON\": -0.12}, {\"Year\": 1915, \"Jan\": -0.17, \"Feb\": 0.0, \"Mar\": -0.09, \"Apr\": 0.06, \"May\": -0.06, \"Jun\": -0.2, \"Jul\": -0.1, \"Aug\": -0.19, \"Sep\": -0.16, \"Oct\": -0.24, \"Nov\": -0.12, \"Dec\": -0.16, \"J-D\": -0.12, \"D-N\": \"-.11\", \"DJF\": \"-.08\", \"MAM\": -0.03, \"JJA\": -0.16, \"SON\": -0.18}, {\"Year\": 1916, \"Jan\": -0.08, \"Feb\": -0.12, \"Mar\": -0.28, \"Apr\": -0.29, \"May\": -0.32, \"Jun\": -0.46, \"Jul\": -0.35, \"Aug\": -0.25, \"Sep\": -0.31, \"Oct\": -0.26, \"Nov\": -0.39, \"Dec\": -0.79, \"J-D\": -0.33, \"D-N\": \"-.27\", \"DJF\": \"-.12\", \"MAM\": -0.3, \"JJA\": -0.35, \"SON\": -0.32}, {\"Year\": 1917, \"Jan\": -0.58, \"Feb\": -0.61, \"Mar\": -0.6, \"Apr\": -0.5, \"May\": -0.54, \"Jun\": -0.43, \"Jul\": -0.24, \"Aug\": -0.21, \"Sep\": -0.17, \"Oct\": -0.4, \"Nov\": -0.28, \"Dec\": -0.66, \"J-D\": -0.43, \"D-N\": \"-.45\", \"DJF\": \"-.66\", \"MAM\": -0.55, \"JJA\": -0.29, \"SON\": -0.28}, {\"Year\": 1918, \"Jan\": -0.41, \"Feb\": -0.31, \"Mar\": -0.24, \"Apr\": -0.44, \"May\": -0.45, \"Jun\": -0.35, \"Jul\": -0.31, \"Aug\": -0.29, \"Sep\": -0.14, \"Oct\": -0.05, \"Nov\": -0.09, \"Dec\": -0.27, \"J-D\": -0.28, \"D-N\": \"-.31\", \"DJF\": \"-.46\", \"MAM\": -0.38, \"JJA\": -0.31, \"SON\": -0.09}, {\"Year\": 1919, \"Jan\": -0.19, \"Feb\": -0.22, \"Mar\": -0.2, \"Apr\": -0.13, \"May\": -0.27, \"Jun\": -0.37, \"Jul\": -0.28, \"Aug\": -0.32, \"Sep\": -0.22, \"Oct\": -0.18, \"Nov\": -0.41, \"Dec\": -0.41, \"J-D\": -0.27, \"D-N\": \"-.25\", \"DJF\": \"-.23\", \"MAM\": -0.2, \"JJA\": -0.32, \"SON\": -0.27}, {\"Year\": 1920, \"Jan\": -0.21, \"Feb\": -0.22, \"Mar\": -0.07, \"Apr\": -0.25, \"May\": -0.26, \"Jun\": -0.35, \"Jul\": -0.31, \"Aug\": -0.24, \"Sep\": -0.19, \"Oct\": -0.26, \"Nov\": -0.26, \"Dec\": -0.43, \"J-D\": -0.25, \"D-N\": \"-.25\", \"DJF\": \"-.28\", \"MAM\": -0.19, \"JJA\": -0.3, \"SON\": -0.23}, {\"Year\": 1921, \"Jan\": -0.01, \"Feb\": -0.18, \"Mar\": -0.22, \"Apr\": -0.29, \"May\": -0.28, \"Jun\": -0.27, \"Jul\": -0.14, \"Aug\": -0.23, \"Sep\": -0.16, \"Oct\": -0.02, \"Nov\": -0.12, \"Dec\": -0.16, \"J-D\": -0.17, \"D-N\": \"-.20\", \"DJF\": \"-.21\", \"MAM\": -0.26, \"JJA\": -0.21, \"SON\": -0.1}, {\"Year\": 1922, \"Jan\": -0.33, \"Feb\": -0.43, \"Mar\": -0.12, \"Apr\": -0.23, \"May\": -0.33, \"Jun\": -0.32, \"Jul\": -0.24, \"Aug\": -0.3, \"Sep\": -0.31, \"Oct\": -0.31, \"Nov\": -0.13, \"Dec\": -0.17, \"J-D\": -0.27, \"D-N\": \"-.27\", \"DJF\": \"-.30\", \"MAM\": -0.22, \"JJA\": -0.29, \"SON\": -0.25}, {\"Year\": 1923, \"Jan\": -0.28, \"Feb\": -0.36, \"Mar\": -0.33, \"Apr\": -0.39, \"May\": -0.33, \"Jun\": -0.25, \"Jul\": -0.29, \"Aug\": -0.29, \"Sep\": -0.27, \"Oct\": -0.11, \"Nov\": 0.02, \"Dec\": -0.02, \"J-D\": -0.24, \"D-N\": \"-.25\", \"DJF\": \"-.27\", \"MAM\": -0.35, \"JJA\": -0.27, \"SON\": -0.12}, {\"Year\": 1924, \"Jan\": -0.21, \"Feb\": -0.23, \"Mar\": -0.06, \"Apr\": -0.31, \"May\": -0.18, \"Jun\": -0.22, \"Jul\": -0.25, \"Aug\": -0.33, \"Sep\": -0.31, \"Oct\": -0.33, \"Nov\": -0.19, \"Dec\": -0.4, \"J-D\": -0.25, \"D-N\": \"-.22\", \"DJF\": \"-.15\", \"MAM\": -0.18, \"JJA\": -0.27, \"SON\": -0.27}, {\"Year\": 1925, \"Jan\": -0.36, \"Feb\": -0.38, \"Mar\": -0.25, \"Apr\": -0.25, \"May\": -0.3, \"Jun\": -0.33, \"Jul\": -0.27, \"Aug\": -0.15, \"Sep\": -0.16, \"Oct\": -0.17, \"Nov\": 0.04, \"Dec\": 0.09, \"J-D\": -0.21, \"D-N\": \"-.25\", \"DJF\": \"-.38\", \"MAM\": -0.26, \"JJA\": -0.25, \"SON\": -0.09}, {\"Year\": 1926, \"Jan\": 0.2, \"Feb\": 0.07, \"Mar\": 0.12, \"Apr\": -0.12, \"May\": -0.22, \"Jun\": -0.22, \"Jul\": -0.24, \"Aug\": -0.12, \"Sep\": -0.12, \"Oct\": -0.09, \"Nov\": -0.04, \"Dec\": -0.28, \"J-D\": -0.09, \"D-N\": \"-.06\", \"DJF\": \".12\", \"MAM\": -0.07, \"JJA\": -0.19, \"SON\": -0.08}, {\"Year\": 1927, \"Jan\": -0.27, \"Feb\": -0.18, \"Mar\": -0.37, \"Apr\": -0.31, \"May\": -0.25, \"Jun\": -0.26, \"Jul\": -0.17, \"Aug\": -0.2, \"Sep\": -0.1, \"Oct\": 0.0, \"Nov\": -0.03, \"Dec\": -0.32, \"J-D\": -0.2, \"D-N\": \"-.20\", \"DJF\": \"-.24\", \"MAM\": -0.31, \"JJA\": -0.21, \"SON\": -0.04}, {\"Year\": 1928, \"Jan\": -0.01, \"Feb\": -0.07, \"Mar\": -0.27, \"Apr\": -0.28, \"May\": -0.29, \"Jun\": -0.37, \"Jul\": -0.18, \"Aug\": -0.22, \"Sep\": -0.18, \"Oct\": -0.17, \"Nov\": -0.09, \"Dec\": -0.17, \"J-D\": -0.19, \"D-N\": \"-.20\", \"DJF\": \"-.13\", \"MAM\": -0.28, \"JJA\": -0.25, \"SON\": -0.15}, {\"Year\": 1929, \"Jan\": -0.45, \"Feb\": -0.59, \"Mar\": -0.31, \"Apr\": -0.39, \"May\": -0.38, \"Jun\": -0.4, \"Jul\": -0.33, \"Aug\": -0.3, \"Sep\": -0.23, \"Oct\": -0.13, \"Nov\": -0.12, \"Dec\": -0.53, \"J-D\": -0.35, \"D-N\": \"-.32\", \"DJF\": \"-.41\", \"MAM\": -0.36, \"JJA\": -0.34, \"SON\": -0.16}, {\"Year\": 1930, \"Jan\": -0.3, \"Feb\": -0.27, \"Mar\": -0.08, \"Apr\": -0.25, \"May\": -0.23, \"Jun\": -0.2, \"Jul\": -0.19, \"Aug\": -0.13, \"Sep\": -0.12, \"Oct\": -0.09, \"Nov\": 0.16, \"Dec\": -0.06, \"J-D\": -0.15, \"D-N\": \"-.19\", \"DJF\": \"-.37\", \"MAM\": -0.19, \"JJA\": -0.17, \"SON\": -0.02}, {\"Year\": 1931, \"Jan\": -0.1, \"Feb\": -0.24, \"Mar\": -0.08, \"Apr\": -0.22, \"May\": -0.2, \"Jun\": -0.08, \"Jul\": -0.03, \"Aug\": -0.03, \"Sep\": -0.07, \"Oct\": 0.02, \"Nov\": -0.12, \"Dec\": -0.09, \"J-D\": -0.1, \"D-N\": \"-.10\", \"DJF\": \"-.14\", \"MAM\": -0.17, \"JJA\": -0.04, \"SON\": -0.06}, {\"Year\": 1932, \"Jan\": 0.14, \"Feb\": -0.19, \"Mar\": -0.19, \"Apr\": -0.07, \"May\": -0.19, \"Jun\": -0.3, \"Jul\": -0.24, \"Aug\": -0.24, \"Sep\": -0.12, \"Oct\": -0.11, \"Nov\": -0.27, \"Dec\": -0.25, \"J-D\": -0.17, \"D-N\": \"-.16\", \"DJF\": \"-.05\", \"MAM\": -0.15, \"JJA\": -0.26, \"SON\": -0.16}, {\"Year\": 1933, \"Jan\": -0.34, \"Feb\": -0.34, \"Mar\": -0.3, \"Apr\": -0.26, \"May\": -0.29, \"Jun\": -0.34, \"Jul\": -0.21, \"Aug\": -0.24, \"Sep\": -0.27, \"Oct\": -0.21, \"Nov\": -0.3, \"Dec\": -0.46, \"J-D\": -0.3, \"D-N\": \"-.28\", \"DJF\": \"-.31\", \"MAM\": -0.28, \"JJA\": -0.27, \"SON\": -0.26}, {\"Year\": 1934, \"Jan\": -0.25, \"Feb\": -0.04, \"Mar\": -0.33, \"Apr\": -0.3, \"May\": -0.11, \"Jun\": -0.16, \"Jul\": -0.11, \"Aug\": -0.11, \"Sep\": -0.16, \"Oct\": -0.08, \"Nov\": 0.03, \"Dec\": -0.04, \"J-D\": -0.14, \"D-N\": \"-.17\", \"DJF\": \"-.25\", \"MAM\": -0.25, \"JJA\": -0.13, \"SON\": -0.07}, {\"Year\": 1935, \"Jan\": -0.34, \"Feb\": 0.14, \"Mar\": -0.13, \"Apr\": -0.36, \"May\": -0.31, \"Jun\": -0.27, \"Jul\": -0.23, \"Aug\": -0.22, \"Sep\": -0.21, \"Oct\": -0.08, \"Nov\": -0.28, \"Dec\": -0.2, \"J-D\": -0.21, \"D-N\": \"-.19\", \"DJF\": \"-.08\", \"MAM\": -0.26, \"JJA\": -0.24, \"SON\": -0.19}, {\"Year\": 1936, \"Jan\": -0.28, \"Feb\": -0.39, \"Mar\": -0.22, \"Apr\": -0.2, \"May\": -0.18, \"Jun\": -0.21, \"Jul\": -0.08, \"Aug\": -0.14, \"Sep\": -0.09, \"Oct\": -0.04, \"Nov\": -0.04, \"Dec\": -0.03, \"J-D\": -0.16, \"D-N\": \"-.17\", \"DJF\": \"-.29\", \"MAM\": -0.2, \"JJA\": -0.14, \"SON\": -0.06}, {\"Year\": 1937, \"Jan\": -0.13, \"Feb\": 0.03, \"Mar\": -0.18, \"Apr\": -0.17, \"May\": -0.08, \"Jun\": -0.05, \"Jul\": -0.05, \"Aug\": 0.02, \"Sep\": 0.11, \"Oct\": 0.08, \"Nov\": 0.09, \"Dec\": -0.12, \"J-D\": -0.04, \"D-N\": \"-.03\", \"DJF\": \"-.04\", \"MAM\": -0.14, \"JJA\": -0.03, \"SON\": 0.1}, {\"Year\": 1938, \"Jan\": 0.01, \"Feb\": -0.03, \"Mar\": 0.08, \"Apr\": 0.04, \"May\": -0.1, \"Jun\": -0.18, \"Jul\": -0.09, \"Aug\": -0.06, \"Sep\": 0.02, \"Oct\": 0.11, \"Nov\": 0.03, \"Dec\": -0.22, \"J-D\": -0.03, \"D-N\": \"-.02\", \"DJF\": \"-.04\", \"MAM\": 0.01, \"JJA\": -0.11, \"SON\": 0.05}, {\"Year\": 1939, \"Jan\": -0.07, \"Feb\": -0.08, \"Mar\": -0.2, \"Apr\": -0.1, \"May\": -0.06, \"Jun\": -0.08, \"Jul\": -0.08, \"Aug\": -0.07, \"Sep\": -0.07, \"Oct\": -0.03, \"Nov\": 0.05, \"Dec\": 0.44, \"J-D\": -0.03, \"D-N\": \"-.08\", \"DJF\": \"-.13\", \"MAM\": -0.12, \"JJA\": -0.08, \"SON\": -0.02}, {\"Year\": 1940, \"Jan\": -0.06, \"Feb\": 0.12, \"Mar\": 0.15, \"Apr\": 0.18, \"May\": 0.09, \"Jun\": 0.08, \"Jul\": 0.12, \"Aug\": 0.04, \"Sep\": 0.13, \"Oct\": 0.07, \"Nov\": 0.17, \"Dec\": 0.27, \"J-D\": 0.11, \"D-N\": \".13\", \"DJF\": \".17\", \"MAM\": 0.14, \"JJA\": 0.08, \"SON\": 0.12}, {\"Year\": 1941, \"Jan\": 0.21, \"Feb\": 0.32, \"Mar\": 0.08, \"Apr\": 0.17, \"May\": 0.14, \"Jun\": 0.11, \"Jul\": 0.21, \"Aug\": 0.14, \"Sep\": 0.02, \"Oct\": 0.33, \"Nov\": 0.24, \"Dec\": 0.2, \"J-D\": 0.18, \"D-N\": \".19\", \"DJF\": \".27\", \"MAM\": 0.13, \"JJA\": 0.15, \"SON\": 0.2}, {\"Year\": 1942, \"Jan\": 0.25, \"Feb\": 0.01, \"Mar\": 0.09, \"Apr\": 0.11, \"May\": 0.08, \"Jun\": 0.04, \"Jul\": 0.0, \"Aug\": -0.04, \"Sep\": -0.05, \"Oct\": -0.01, \"Nov\": 0.08, \"Dec\": 0.07, \"J-D\": 0.05, \"D-N\": \".06\", \"DJF\": \".16\", \"MAM\": 0.09, \"JJA\": 0.0, \"SON\": 0.01}, {\"Year\": 1943, \"Jan\": -0.04, \"Feb\": 0.14, \"Mar\": -0.08, \"Apr\": 0.07, \"May\": 0.04, \"Jun\": -0.06, \"Jul\": 0.08, \"Aug\": 0.0, \"Sep\": 0.06, \"Oct\": 0.22, \"Nov\": 0.2, \"Dec\": 0.24, \"J-D\": 0.07, \"D-N\": \".06\", \"DJF\": \".06\", \"MAM\": 0.01, \"JJA\": 0.01, \"SON\": 0.16}, {\"Year\": 1944, \"Jan\": 0.35, \"Feb\": 0.26, \"Mar\": 0.26, \"Apr\": 0.19, \"May\": 0.19, \"Jun\": 0.2, \"Jul\": 0.18, \"Aug\": 0.17, \"Sep\": 0.3, \"Oct\": 0.25, \"Nov\": 0.1, \"Dec\": 0.02, \"J-D\": 0.21, \"D-N\": \".23\", \"DJF\": \".29\", \"MAM\": 0.22, \"JJA\": 0.18, \"SON\": 0.22}, {\"Year\": 1945, \"Jan\": 0.1, \"Feb\": -0.02, \"Mar\": 0.06, \"Apr\": 0.18, \"May\": 0.04, \"Jun\": -0.01, \"Jul\": 0.02, \"Aug\": 0.27, \"Sep\": 0.22, \"Oct\": 0.18, \"Nov\": 0.07, \"Dec\": -0.09, \"J-D\": 0.09, \"D-N\": \".10\", \"DJF\": \".03\", \"MAM\": 0.1, \"JJA\": 0.09, \"SON\": 0.16}, {\"Year\": 1946, \"Jan\": 0.15, \"Feb\": 0.07, \"Mar\": 0.01, \"Apr\": 0.06, \"May\": -0.08, \"Jun\": -0.21, \"Jul\": -0.14, \"Aug\": -0.17, \"Sep\": -0.07, \"Oct\": -0.06, \"Nov\": -0.06, \"Dec\": -0.36, \"J-D\": -0.07, \"D-N\": \"-.05\", \"DJF\": \".04\", \"MAM\": -0.01, \"JJA\": -0.17, \"SON\": -0.06}, {\"Year\": 1947, \"Jan\": -0.13, \"Feb\": -0.08, \"Mar\": 0.07, \"Apr\": 0.07, \"May\": -0.04, \"Jun\": 0.02, \"Jul\": -0.08, \"Aug\": -0.1, \"Sep\": -0.13, \"Oct\": 0.05, \"Nov\": 0.02, \"Dec\": -0.17, \"J-D\": -0.04, \"D-N\": \"-.06\", \"DJF\": \"-.19\", \"MAM\": 0.03, \"JJA\": -0.05, \"SON\": -0.02}, {\"Year\": 1948, \"Jan\": 0.07, \"Feb\": -0.16, \"Mar\": -0.26, \"Apr\": -0.12, \"May\": 0.01, \"Jun\": -0.05, \"Jul\": -0.12, \"Aug\": -0.13, \"Sep\": -0.12, \"Oct\": -0.08, \"Nov\": -0.12, \"Dec\": -0.23, \"J-D\": -0.11, \"D-N\": \"-.10\", \"DJF\": \"-.09\", \"MAM\": -0.12, \"JJA\": -0.1, \"SON\": -0.11}, {\"Year\": 1949, \"Jan\": 0.09, \"Feb\": -0.17, \"Mar\": -0.03, \"Apr\": -0.1, \"May\": -0.09, \"Jun\": -0.23, \"Jul\": -0.14, \"Aug\": -0.12, \"Sep\": -0.14, \"Oct\": -0.07, \"Nov\": -0.1, \"Dec\": -0.23, \"J-D\": -0.11, \"D-N\": \"-.11\", \"DJF\": \"-.10\", \"MAM\": -0.07, \"JJA\": -0.17, \"SON\": -0.1}, {\"Year\": 1950, \"Jan\": -0.34, \"Feb\": -0.28, \"Mar\": -0.07, \"Apr\": -0.21, \"May\": -0.1, \"Jun\": -0.04, \"Jul\": -0.1, \"Aug\": -0.17, \"Sep\": -0.12, \"Oct\": -0.22, \"Nov\": -0.38, \"Dec\": -0.2, \"J-D\": -0.19, \"D-N\": \"-.19\", \"DJF\": \"-.28\", \"MAM\": -0.13, \"JJA\": -0.1, \"SON\": -0.24}, {\"Year\": 1951, \"Jan\": -0.35, \"Feb\": -0.43, \"Mar\": -0.21, \"Apr\": -0.13, \"May\": 0.0, \"Jun\": -0.02, \"Jul\": 0.03, \"Aug\": 0.06, \"Sep\": 0.09, \"Oct\": 0.05, \"Nov\": -0.02, \"Dec\": 0.14, \"J-D\": -0.07, \"D-N\": \"-.09\", \"DJF\": \"-.33\", \"MAM\": -0.11, \"JJA\": 0.02, \"SON\": 0.04}, {\"Year\": 1952, \"Jan\": 0.13, \"Feb\": 0.11, \"Mar\": -0.09, \"Apr\": 0.02, \"May\": -0.02, \"Jun\": -0.04, \"Jul\": 0.04, \"Aug\": 0.04, \"Sep\": 0.07, \"Oct\": -0.01, \"Nov\": -0.14, \"Dec\": -0.01, \"J-D\": 0.01, \"D-N\": \".02\", \"DJF\": \".12\", \"MAM\": -0.03, \"JJA\": 0.02, \"SON\": -0.02}, {\"Year\": 1953, \"Jan\": 0.08, \"Feb\": 0.14, \"Mar\": 0.11, \"Apr\": 0.18, \"May\": 0.09, \"Jun\": 0.1, \"Jul\": 0.0, \"Aug\": 0.06, \"Sep\": 0.04, \"Oct\": 0.06, \"Nov\": -0.05, \"Dec\": 0.02, \"J-D\": 0.07, \"D-N\": \".07\", \"DJF\": \".07\", \"MAM\": 0.13, \"JJA\": 0.05, \"SON\": 0.02}, {\"Year\": 1954, \"Jan\": -0.28, \"Feb\": -0.13, \"Mar\": -0.15, \"Apr\": -0.16, \"May\": -0.22, \"Jun\": -0.17, \"Jul\": -0.19, \"Aug\": -0.16, \"Sep\": -0.1, \"Oct\": -0.04, \"Nov\": 0.06, \"Dec\": -0.22, \"J-D\": -0.15, \"D-N\": \"-.13\", \"DJF\": \"-.13\", \"MAM\": -0.18, \"JJA\": -0.17, \"SON\": -0.03}, {\"Year\": 1955, \"Jan\": 0.14, \"Feb\": -0.18, \"Mar\": -0.34, \"Apr\": -0.21, \"May\": -0.21, \"Jun\": -0.11, \"Jul\": -0.12, \"Aug\": 0.01, \"Sep\": -0.11, \"Oct\": -0.05, \"Nov\": -0.24, \"Dec\": -0.3, \"J-D\": -0.14, \"D-N\": \"-.14\", \"DJF\": \"-.08\", \"MAM\": -0.25, \"JJA\": -0.08, \"SON\": -0.13}, {\"Year\": 1956, \"Jan\": -0.16, \"Feb\": -0.26, \"Mar\": -0.23, \"Apr\": -0.27, \"May\": -0.31, \"Jun\": -0.16, \"Jul\": -0.12, \"Aug\": -0.26, \"Sep\": -0.2, \"Oct\": -0.24, \"Nov\": -0.17, \"Dec\": -0.07, \"J-D\": -0.2, \"D-N\": \"-.22\", \"DJF\": \"-.24\", \"MAM\": -0.27, \"JJA\": -0.18, \"SON\": -0.2}, {\"Year\": 1957, \"Jan\": -0.11, \"Feb\": -0.04, \"Mar\": -0.06, \"Apr\": -0.01, \"May\": 0.09, \"Jun\": 0.16, \"Jul\": 0.01, \"Aug\": 0.15, \"Sep\": 0.09, \"Oct\": 0.02, \"Nov\": 0.07, \"Dec\": 0.16, \"J-D\": 0.04, \"D-N\": \".02\", \"DJF\": \"-.07\", \"MAM\": 0.01, \"JJA\": 0.11, \"SON\": 0.06}, {\"Year\": 1958, \"Jan\": 0.39, \"Feb\": 0.24, \"Mar\": 0.11, \"Apr\": 0.03, \"May\": 0.07, \"Jun\": -0.07, \"Jul\": 0.05, \"Aug\": -0.03, \"Sep\": -0.02, \"Oct\": 0.04, \"Nov\": 0.02, \"Dec\": 0.0, \"J-D\": 0.07, \"D-N\": \".08\", \"DJF\": \".26\", \"MAM\": 0.07, \"JJA\": -0.02, \"SON\": 0.02}, {\"Year\": 1959, \"Jan\": 0.08, \"Feb\": 0.09, \"Mar\": 0.18, \"Apr\": 0.13, \"May\": 0.04, \"Jun\": 0.02, \"Jul\": 0.06, \"Aug\": -0.02, \"Sep\": -0.06, \"Oct\": -0.09, \"Nov\": -0.09, \"Dec\": -0.02, \"J-D\": 0.03, \"D-N\": \".03\", \"DJF\": \".06\", \"MAM\": 0.12, \"JJA\": 0.02, \"SON\": -0.08}, {\"Year\": 1960, \"Jan\": -0.01, \"Feb\": 0.16, \"Mar\": -0.34, \"Apr\": -0.14, \"May\": -0.07, \"Jun\": -0.04, \"Jul\": -0.03, \"Aug\": 0.02, \"Sep\": 0.07, \"Oct\": 0.07, \"Nov\": -0.12, \"Dec\": 0.18, \"J-D\": -0.02, \"D-N\": \"-.04\", \"DJF\": \".05\", \"MAM\": -0.18, \"JJA\": -0.02, \"SON\": 0.01}, {\"Year\": 1961, \"Jan\": 0.07, \"Feb\": 0.19, \"Mar\": 0.09, \"Apr\": 0.12, \"May\": 0.11, \"Jun\": 0.11, \"Jul\": 0.0, \"Aug\": 0.03, \"Sep\": 0.07, \"Oct\": 0.0, \"Nov\": 0.03, \"Dec\": -0.15, \"J-D\": 0.06, \"D-N\": \".08\", \"DJF\": \".15\", \"MAM\": 0.11, \"JJA\": 0.05, \"SON\": 0.03}, {\"Year\": 1962, \"Jan\": 0.07, \"Feb\": 0.14, \"Mar\": 0.12, \"Apr\": 0.04, \"May\": -0.04, \"Jun\": 0.05, \"Jul\": 0.02, \"Aug\": -0.01, \"Sep\": 0.01, \"Oct\": 0.0, \"Nov\": 0.07, \"Dec\": 0.0, \"J-D\": 0.04, \"D-N\": \".03\", \"DJF\": \".02\", \"MAM\": 0.04, \"JJA\": 0.02, \"SON\": 0.03}, {\"Year\": 1963, \"Jan\": -0.02, \"Feb\": 0.2, \"Mar\": -0.14, \"Apr\": -0.06, \"May\": -0.04, \"Jun\": 0.05, \"Jul\": 0.09, \"Aug\": 0.27, \"Sep\": 0.2, \"Oct\": 0.15, \"Nov\": 0.15, \"Dec\": -0.01, \"J-D\": 0.07, \"D-N\": \".07\", \"DJF\": \".06\", \"MAM\": -0.08, \"JJA\": 0.14, \"SON\": 0.17}, {\"Year\": 1964, \"Jan\": -0.08, \"Feb\": -0.13, \"Mar\": -0.23, \"Apr\": -0.31, \"May\": -0.24, \"Jun\": -0.02, \"Jul\": -0.03, \"Aug\": -0.21, \"Sep\": -0.29, \"Oct\": -0.31, \"Nov\": -0.21, \"Dec\": -0.3, \"J-D\": -0.2, \"D-N\": \"-.17\", \"DJF\": \"-.07\", \"MAM\": -0.26, \"JJA\": -0.09, \"SON\": -0.27}, {\"Year\": 1965, \"Jan\": -0.08, \"Feb\": -0.17, \"Mar\": -0.11, \"Apr\": -0.19, \"May\": -0.14, \"Jun\": -0.09, \"Jul\": -0.12, \"Aug\": -0.03, \"Sep\": -0.16, \"Oct\": -0.05, \"Nov\": -0.06, \"Dec\": -0.06, \"J-D\": -0.1, \"D-N\": \"-.12\", \"DJF\": \"-.18\", \"MAM\": -0.14, \"JJA\": -0.08, \"SON\": -0.09}, {\"Year\": 1966, \"Jan\": -0.17, \"Feb\": 0.0, \"Mar\": 0.05, \"Apr\": -0.13, \"May\": -0.11, \"Jun\": 0.01, \"Jul\": 0.1, \"Aug\": -0.08, \"Sep\": -0.02, \"Oct\": -0.15, \"Nov\": -0.02, \"Dec\": -0.05, \"J-D\": -0.05, \"D-N\": \"-.05\", \"DJF\": \"-.08\", \"MAM\": -0.06, \"JJA\": 0.01, \"SON\": -0.06}, {\"Year\": 1967, \"Jan\": -0.06, \"Feb\": -0.21, \"Mar\": 0.04, \"Apr\": -0.05, \"May\": 0.15, \"Jun\": -0.08, \"Jul\": 0.01, \"Aug\": 0.01, \"Sep\": -0.06, \"Oct\": 0.09, \"Nov\": -0.07, \"Dec\": -0.03, \"J-D\": -0.02, \"D-N\": \"-.02\", \"DJF\": \"-.11\", \"MAM\": 0.05, \"JJA\": -0.02, \"SON\": -0.01}, {\"Year\": 1968, \"Jan\": -0.26, \"Feb\": -0.15, \"Mar\": 0.21, \"Apr\": -0.05, \"May\": -0.13, \"Jun\": -0.08, \"Jul\": -0.12, \"Aug\": -0.09, \"Sep\": -0.18, \"Oct\": 0.11, \"Nov\": -0.03, \"Dec\": -0.13, \"J-D\": -0.07, \"D-N\": \"-.07\", \"DJF\": \"-.15\", \"MAM\": 0.01, \"JJA\": -0.09, \"SON\": -0.04}, {\"Year\": 1969, \"Jan\": -0.1, \"Feb\": -0.14, \"Mar\": 0.01, \"Apr\": 0.18, \"May\": 0.19, \"Jun\": 0.05, \"Jul\": -0.02, \"Aug\": 0.03, \"Sep\": 0.09, \"Oct\": 0.13, \"Nov\": 0.13, \"Dec\": 0.28, \"J-D\": 0.07, \"D-N\": \".03\", \"DJF\": \"-.12\", \"MAM\": 0.13, \"JJA\": 0.02, \"SON\": 0.12}, {\"Year\": 1970, \"Jan\": 0.09, \"Feb\": 0.22, \"Mar\": 0.08, \"Apr\": 0.09, \"May\": -0.04, \"Jun\": -0.02, \"Jul\": -0.02, \"Aug\": -0.09, \"Sep\": 0.11, \"Oct\": 0.06, \"Nov\": 0.02, \"Dec\": -0.12, \"J-D\": 0.03, \"D-N\": \".07\", \"DJF\": \".20\", \"MAM\": 0.04, \"JJA\": -0.04, \"SON\": 0.06}, {\"Year\": 1971, \"Jan\": -0.02, \"Feb\": -0.2, \"Mar\": -0.17, \"Apr\": -0.08, \"May\": -0.05, \"Jun\": -0.19, \"Jul\": -0.11, \"Aug\": -0.03, \"Sep\": -0.04, \"Oct\": -0.06, \"Nov\": -0.05, \"Dec\": -0.09, \"J-D\": -0.09, \"D-N\": \"-.09\", \"DJF\": \"-.11\", \"MAM\": -0.1, \"JJA\": -0.11, \"SON\": -0.05}, {\"Year\": 1972, \"Jan\": -0.24, \"Feb\": -0.16, \"Mar\": 0.02, \"Apr\": 0.0, \"May\": -0.04, \"Jun\": 0.06, \"Jul\": 0.01, \"Aug\": 0.17, \"Sep\": 0.02, \"Oct\": 0.09, \"Nov\": 0.04, \"Dec\": 0.19, \"J-D\": 0.01, \"D-N\": \"-.01\", \"DJF\": \"-.16\", \"MAM\": 0.0, \"JJA\": 0.08, \"SON\": 0.05}, {\"Year\": 1973, \"Jan\": 0.29, \"Feb\": 0.31, \"Mar\": 0.27, \"Apr\": 0.26, \"May\": 0.25, \"Jun\": 0.17, \"Jul\": 0.1, \"Aug\": 0.03, \"Sep\": 0.1, \"Oct\": 0.14, \"Nov\": 0.06, \"Dec\": -0.06, \"J-D\": 0.16, \"D-N\": \".18\", \"DJF\": \".26\", \"MAM\": 0.26, \"JJA\": 0.1, \"SON\": 0.1}, {\"Year\": 1974, \"Jan\": -0.15, \"Feb\": -0.29, \"Mar\": -0.06, \"Apr\": -0.12, \"May\": -0.02, \"Jun\": -0.06, \"Jul\": -0.05, \"Aug\": 0.11, \"Sep\": -0.12, \"Oct\": -0.08, \"Nov\": -0.07, \"Dec\": -0.09, \"J-D\": -0.08, \"D-N\": \"-.08\", \"DJF\": \"-.16\", \"MAM\": -0.07, \"JJA\": 0.0, \"SON\": -0.09}, {\"Year\": 1975, \"Jan\": 0.07, \"Feb\": 0.06, \"Mar\": 0.13, \"Apr\": 0.05, \"May\": 0.16, \"Jun\": 0.0, \"Jul\": -0.01, \"Aug\": -0.19, \"Sep\": -0.03, \"Oct\": -0.09, \"Nov\": -0.16, \"Dec\": -0.17, \"J-D\": -0.02, \"D-N\": \"-.01\", \"DJF\": \".01\", \"MAM\": 0.11, \"JJA\": -0.07, \"SON\": -0.09}, {\"Year\": 1976, \"Jan\": -0.02, \"Feb\": -0.06, \"Mar\": -0.21, \"Apr\": -0.08, \"May\": -0.24, \"Jun\": -0.16, \"Jul\": -0.1, \"Aug\": -0.14, \"Sep\": -0.09, \"Oct\": -0.26, \"Nov\": -0.04, \"Dec\": 0.1, \"J-D\": -0.11, \"D-N\": \"-.13\", \"DJF\": \"-.08\", \"MAM\": -0.18, \"JJA\": -0.13, \"SON\": -0.13}, {\"Year\": 1977, \"Jan\": 0.19, \"Feb\": 0.22, \"Mar\": 0.24, \"Apr\": 0.27, \"May\": 0.3, \"Jun\": 0.24, \"Jul\": 0.2, \"Aug\": 0.16, \"Sep\": 0.0, \"Oct\": 0.02, \"Nov\": 0.17, \"Dec\": 0.02, \"J-D\": 0.17, \"D-N\": \".18\", \"DJF\": \".17\", \"MAM\": 0.27, \"JJA\": 0.2, \"SON\": 0.06}, {\"Year\": 1978, \"Jan\": 0.06, \"Feb\": 0.14, \"Mar\": 0.21, \"Apr\": 0.15, \"May\": 0.06, \"Jun\": -0.02, \"Jul\": 0.03, \"Aug\": -0.18, \"Sep\": 0.05, \"Oct\": 0.0, \"Nov\": 0.15, \"Dec\": 0.1, \"J-D\": 0.06, \"D-N\": \".06\", \"DJF\": \".07\", \"MAM\": 0.14, \"JJA\": -0.06, \"SON\": 0.07}, {\"Year\": 1979, \"Jan\": 0.12, \"Feb\": -0.1, \"Mar\": 0.18, \"Apr\": 0.13, \"May\": 0.05, \"Jun\": 0.13, \"Jul\": 0.02, \"Aug\": 0.13, \"Sep\": 0.25, \"Oct\": 0.24, \"Nov\": 0.28, \"Dec\": 0.47, \"J-D\": 0.16, \"D-N\": \".13\", \"DJF\": \".04\", \"MAM\": 0.12, \"JJA\": 0.1, \"SON\": 0.26}, {\"Year\": 1980, \"Jan\": 0.3, \"Feb\": 0.43, \"Mar\": 0.3, \"Apr\": 0.33, \"May\": 0.36, \"Jun\": 0.17, \"Jul\": 0.28, \"Aug\": 0.23, \"Sep\": 0.19, \"Oct\": 0.18, \"Nov\": 0.29, \"Dec\": 0.19, \"J-D\": 0.27, \"D-N\": \".29\", \"DJF\": \".40\", \"MAM\": 0.33, \"JJA\": 0.23, \"SON\": 0.22}, {\"Year\": 1981, \"Jan\": 0.55, \"Feb\": 0.41, \"Mar\": 0.49, \"Apr\": 0.31, \"May\": 0.24, \"Jun\": 0.31, \"Jul\": 0.34, \"Aug\": 0.32, \"Sep\": 0.16, \"Oct\": 0.14, \"Nov\": 0.24, \"Dec\": 0.43, \"J-D\": 0.33, \"D-N\": \".31\", \"DJF\": \".38\", \"MAM\": 0.35, \"JJA\": 0.32, \"SON\": 0.18}, {\"Year\": 1982, \"Jan\": 0.1, \"Feb\": 0.16, \"Mar\": -0.01, \"Apr\": 0.09, \"May\": 0.16, \"Jun\": 0.05, \"Jul\": 0.13, \"Aug\": 0.07, \"Sep\": 0.14, \"Oct\": 0.13, \"Nov\": 0.15, \"Dec\": 0.42, \"J-D\": 0.13, \"D-N\": \".13\", \"DJF\": \".23\", \"MAM\": 0.08, \"JJA\": 0.08, \"SON\": 0.14}, {\"Year\": 1983, \"Jan\": 0.52, \"Feb\": 0.4, \"Mar\": 0.42, \"Apr\": 0.31, \"May\": 0.36, \"Jun\": 0.2, \"Jul\": 0.17, \"Aug\": 0.33, \"Sep\": 0.39, \"Oct\": 0.16, \"Nov\": 0.32, \"Dec\": 0.17, \"J-D\": 0.31, \"D-N\": \".33\", \"DJF\": \".45\", \"MAM\": 0.36, \"JJA\": 0.23, \"SON\": 0.29}, {\"Year\": 1984, \"Jan\": 0.3, \"Feb\": 0.17, \"Mar\": 0.29, \"Apr\": 0.08, \"May\": 0.33, \"Jun\": 0.05, \"Jul\": 0.17, \"Aug\": 0.16, \"Sep\": 0.21, \"Oct\": 0.16, \"Nov\": 0.06, \"Dec\": -0.05, \"J-D\": 0.16, \"D-N\": \".18\", \"DJF\": \".21\", \"MAM\": 0.23, \"JJA\": 0.13, \"SON\": 0.14}, {\"Year\": 1985, \"Jan\": 0.22, \"Feb\": -0.06, \"Mar\": 0.17, \"Apr\": 0.11, \"May\": 0.17, \"Jun\": 0.18, \"Jul\": -0.01, \"Aug\": 0.15, \"Sep\": 0.15, \"Oct\": 0.12, \"Nov\": 0.09, \"Dec\": 0.15, \"J-D\": 0.12, \"D-N\": \".10\", \"DJF\": \".04\", \"MAM\": 0.15, \"JJA\": 0.11, \"SON\": 0.12}, {\"Year\": 1986, \"Jan\": 0.29, \"Feb\": 0.38, \"Mar\": 0.28, \"Apr\": 0.24, \"May\": 0.24, \"Jun\": 0.11, \"Jul\": 0.11, \"Aug\": 0.12, \"Sep\": 0.0, \"Oct\": 0.13, \"Nov\": 0.11, \"Dec\": 0.16, \"J-D\": 0.18, \"D-N\": \".18\", \"DJF\": \".27\", \"MAM\": 0.25, \"JJA\": 0.11, \"SON\": 0.08}, {\"Year\": 1987, \"Jan\": 0.36, \"Feb\": 0.45, \"Mar\": 0.16, \"Apr\": 0.22, \"May\": 0.25, \"Jun\": 0.37, \"Jul\": 0.45, \"Aug\": 0.28, \"Sep\": 0.39, \"Oct\": 0.32, \"Nov\": 0.25, \"Dec\": 0.47, \"J-D\": 0.33, \"D-N\": \".30\", \"DJF\": \".32\", \"MAM\": 0.21, \"JJA\": 0.36, \"SON\": 0.32}, {\"Year\": 1988, \"Jan\": 0.57, \"Feb\": 0.43, \"Mar\": 0.51, \"Apr\": 0.45, \"May\": 0.43, \"Jun\": 0.43, \"Jul\": 0.34, \"Aug\": 0.47, \"Sep\": 0.41, \"Oct\": 0.39, \"Nov\": 0.12, \"Dec\": 0.33, \"J-D\": 0.41, \"D-N\": \".42\", \"DJF\": \".49\", \"MAM\": 0.46, \"JJA\": 0.41, \"SON\": 0.31}, {\"Year\": 1989, \"Jan\": 0.15, \"Feb\": 0.35, \"Mar\": 0.37, \"Apr\": 0.33, \"May\": 0.16, \"Jun\": 0.14, \"Jul\": 0.33, \"Aug\": 0.37, \"Sep\": 0.37, \"Oct\": 0.32, \"Nov\": 0.2, \"Dec\": 0.38, \"J-D\": 0.29, \"D-N\": \".29\", \"DJF\": \".27\", \"MAM\": 0.29, \"JJA\": 0.28, \"SON\": 0.3}, {\"Year\": 1990, \"Jan\": 0.4, \"Feb\": 0.41, \"Mar\": 0.76, \"Apr\": 0.55, \"May\": 0.46, \"Jun\": 0.38, \"Jul\": 0.43, \"Aug\": 0.3, \"Sep\": 0.29, \"Oct\": 0.41, \"Nov\": 0.45, \"Dec\": 0.4, \"J-D\": 0.44, \"D-N\": \".44\", \"DJF\": \".40\", \"MAM\": 0.59, \"JJA\": 0.37, \"SON\": 0.38}, {\"Year\": 1991, \"Jan\": 0.4, \"Feb\": 0.49, \"Mar\": 0.34, \"Apr\": 0.52, \"May\": 0.37, \"Jun\": 0.52, \"Jul\": 0.47, \"Aug\": 0.39, \"Sep\": 0.48, \"Oct\": 0.3, \"Nov\": 0.31, \"Dec\": 0.32, \"J-D\": 0.41, \"D-N\": \".42\", \"DJF\": \".43\", \"MAM\": 0.41, \"JJA\": 0.46, \"SON\": 0.36}, {\"Year\": 1992, \"Jan\": 0.44, \"Feb\": 0.41, \"Mar\": 0.47, \"Apr\": 0.23, \"May\": 0.32, \"Jun\": 0.25, \"Jul\": 0.12, \"Aug\": 0.07, \"Sep\": 0.0, \"Oct\": 0.08, \"Nov\": 0.02, \"Dec\": 0.21, \"J-D\": 0.22, \"D-N\": \".23\", \"DJF\": \".39\", \"MAM\": 0.34, \"JJA\": 0.15, \"SON\": 0.04}, {\"Year\": 1993, \"Jan\": 0.37, \"Feb\": 0.38, \"Mar\": 0.36, \"Apr\": 0.27, \"May\": 0.27, \"Jun\": 0.25, \"Jul\": 0.28, \"Aug\": 0.13, \"Sep\": 0.1, \"Oct\": 0.22, \"Nov\": 0.06, \"Dec\": 0.16, \"J-D\": 0.24, \"D-N\": \".24\", \"DJF\": \".32\", \"MAM\": 0.3, \"JJA\": 0.22, \"SON\": 0.13}, {\"Year\": 1994, \"Jan\": 0.27, \"Feb\": 0.02, \"Mar\": 0.27, \"Apr\": 0.4, \"May\": 0.28, \"Jun\": 0.43, \"Jul\": 0.31, \"Aug\": 0.21, \"Sep\": 0.29, \"Oct\": 0.41, \"Nov\": 0.46, \"Dec\": 0.36, \"J-D\": 0.31, \"D-N\": \".29\", \"DJF\": \".15\", \"MAM\": 0.32, \"JJA\": 0.31, \"SON\": 0.39}, {\"Year\": 1995, \"Jan\": 0.5, \"Feb\": 0.78, \"Mar\": 0.45, \"Apr\": 0.47, \"May\": 0.26, \"Jun\": 0.41, \"Jul\": 0.47, \"Aug\": 0.46, \"Sep\": 0.33, \"Oct\": 0.47, \"Nov\": 0.45, \"Dec\": 0.28, \"J-D\": 0.44, \"D-N\": \".45\", \"DJF\": \".55\", \"MAM\": 0.39, \"JJA\": 0.45, \"SON\": 0.42}, {\"Year\": 1996, \"Jan\": 0.25, \"Feb\": 0.48, \"Mar\": 0.32, \"Apr\": 0.36, \"May\": 0.27, \"Jun\": 0.25, \"Jul\": 0.36, \"Aug\": 0.48, \"Sep\": 0.25, \"Oct\": 0.19, \"Nov\": 0.41, \"Dec\": 0.4, \"J-D\": 0.33, \"D-N\": \".32\", \"DJF\": \".34\", \"MAM\": 0.32, \"JJA\": 0.36, \"SON\": 0.28}, {\"Year\": 1997, \"Jan\": 0.31, \"Feb\": 0.38, \"Mar\": 0.53, \"Apr\": 0.36, \"May\": 0.36, \"Jun\": 0.54, \"Jul\": 0.35, \"Aug\": 0.41, \"Sep\": 0.53, \"Oct\": 0.62, \"Nov\": 0.64, \"Dec\": 0.59, \"J-D\": 0.47, \"D-N\": \".45\", \"DJF\": \".36\", \"MAM\": 0.42, \"JJA\": 0.43, \"SON\": 0.6}, {\"Year\": 1998, \"Jan\": 0.6, \"Feb\": 0.9, \"Mar\": 0.63, \"Apr\": 0.63, \"May\": 0.69, \"Jun\": 0.77, \"Jul\": 0.68, \"Aug\": 0.66, \"Sep\": 0.41, \"Oct\": 0.44, \"Nov\": 0.49, \"Dec\": 0.56, \"J-D\": 0.62, \"D-N\": \".62\", \"DJF\": \".69\", \"MAM\": 0.65, \"JJA\": 0.7, \"SON\": 0.45}, {\"Year\": 1999, \"Jan\": 0.48, \"Feb\": 0.65, \"Mar\": 0.34, \"Apr\": 0.33, \"May\": 0.31, \"Jun\": 0.37, \"Jul\": 0.37, \"Aug\": 0.31, \"Sep\": 0.41, \"Oct\": 0.39, \"Nov\": 0.38, \"Dec\": 0.43, \"J-D\": 0.4, \"D-N\": \".41\", \"DJF\": \".56\", \"MAM\": 0.33, \"JJA\": 0.35, \"SON\": 0.39}, {\"Year\": 2000, \"Jan\": 0.24, \"Feb\": 0.56, \"Mar\": 0.58, \"Apr\": 0.57, \"May\": 0.36, \"Jun\": 0.41, \"Jul\": 0.39, \"Aug\": 0.42, \"Sep\": 0.41, \"Oct\": 0.28, \"Nov\": 0.32, \"Dec\": 0.29, \"J-D\": 0.4, \"D-N\": \".41\", \"DJF\": \".41\", \"MAM\": 0.5, \"JJA\": 0.41, \"SON\": 0.34}, {\"Year\": 2001, \"Jan\": 0.42, \"Feb\": 0.44, \"Mar\": 0.56, \"Apr\": 0.51, \"May\": 0.57, \"Jun\": 0.54, \"Jul\": 0.6, \"Aug\": 0.48, \"Sep\": 0.54, \"Oct\": 0.51, \"Nov\": 0.7, \"Dec\": 0.56, \"J-D\": 0.54, \"D-N\": \".51\", \"DJF\": \".38\", \"MAM\": 0.55, \"JJA\": 0.54, \"SON\": 0.58}, {\"Year\": 2002, \"Jan\": 0.75, \"Feb\": 0.75, \"Mar\": 0.9, \"Apr\": 0.57, \"May\": 0.63, \"Jun\": 0.55, \"Jul\": 0.61, \"Aug\": 0.53, \"Sep\": 0.63, \"Oct\": 0.55, \"Nov\": 0.58, \"Dec\": 0.44, \"J-D\": 0.62, \"D-N\": \".63\", \"DJF\": \".69\", \"MAM\": 0.7, \"JJA\": 0.56, \"SON\": 0.59}, {\"Year\": 2003, \"Jan\": 0.72, \"Feb\": 0.55, \"Mar\": 0.57, \"Apr\": 0.54, \"May\": 0.61, \"Jun\": 0.48, \"Jul\": 0.54, \"Aug\": 0.65, \"Sep\": 0.65, \"Oct\": 0.74, \"Nov\": 0.53, \"Dec\": 0.73, \"J-D\": 0.61, \"D-N\": \".58\", \"DJF\": \".57\", \"MAM\": 0.57, \"JJA\": 0.56, \"SON\": 0.64}, {\"Year\": 2004, \"Jan\": 0.58, \"Feb\": 0.73, \"Mar\": 0.64, \"Apr\": 0.63, \"May\": 0.4, \"Jun\": 0.43, \"Jul\": 0.24, \"Aug\": 0.44, \"Sep\": 0.5, \"Oct\": 0.63, \"Nov\": 0.71, \"Dec\": 0.48, \"J-D\": 0.53, \"D-N\": \".56\", \"DJF\": \".68\", \"MAM\": 0.56, \"JJA\": 0.37, \"SON\": 0.61}, {\"Year\": 2005, \"Jan\": 0.7, \"Feb\": 0.55, \"Mar\": 0.71, \"Apr\": 0.68, \"May\": 0.63, \"Jun\": 0.66, \"Jul\": 0.64, \"Aug\": 0.61, \"Sep\": 0.75, \"Oct\": 0.76, \"Nov\": 0.72, \"Dec\": 0.65, \"J-D\": 0.67, \"D-N\": \".66\", \"DJF\": \".58\", \"MAM\": 0.67, \"JJA\": 0.64, \"SON\": 0.74}, {\"Year\": 2006, \"Jan\": 0.56, \"Feb\": 0.68, \"Mar\": 0.62, \"Apr\": 0.5, \"May\": 0.47, \"Jun\": 0.64, \"Jul\": 0.52, \"Aug\": 0.7, \"Sep\": 0.62, \"Oct\": 0.67, \"Nov\": 0.69, \"Dec\": 0.73, \"J-D\": 0.62, \"D-N\": \".61\", \"DJF\": \".63\", \"MAM\": 0.53, \"JJA\": 0.62, \"SON\": 0.66}, {\"Year\": 2007, \"Jan\": 0.94, \"Feb\": 0.7, \"Mar\": 0.69, \"Apr\": 0.74, \"May\": 0.66, \"Jun\": 0.58, \"Jul\": 0.6, \"Aug\": 0.57, \"Sep\": 0.6, \"Oct\": 0.57, \"Nov\": 0.55, \"Dec\": 0.46, \"J-D\": 0.64, \"D-N\": \".66\", \"DJF\": \".79\", \"MAM\": 0.69, \"JJA\": 0.58, \"SON\": 0.57}, {\"Year\": 2008, \"Jan\": 0.23, \"Feb\": 0.34, \"Mar\": 0.73, \"Apr\": 0.51, \"May\": 0.47, \"Jun\": 0.45, \"Jul\": 0.59, \"Aug\": 0.43, \"Sep\": 0.63, \"Oct\": 0.63, \"Nov\": 0.65, \"Dec\": 0.53, \"J-D\": 0.52, \"D-N\": \".51\", \"DJF\": \".34\", \"MAM\": 0.57, \"JJA\": 0.49, \"SON\": 0.64}, {\"Year\": 2009, \"Jan\": 0.61, \"Feb\": 0.5, \"Mar\": 0.52, \"Apr\": 0.59, \"May\": 0.65, \"Jun\": 0.65, \"Jul\": 0.7, \"Aug\": 0.66, \"Sep\": 0.68, \"Oct\": 0.64, \"Nov\": 0.76, \"Dec\": 0.66, \"J-D\": 0.63, \"D-N\": \".62\", \"DJF\": \".55\", \"MAM\": 0.59, \"JJA\": 0.67, \"SON\": 0.69}, {\"Year\": 2010, \"Jan\": 0.73, \"Feb\": 0.8, \"Mar\": 0.92, \"Apr\": 0.85, \"May\": 0.73, \"Jun\": 0.62, \"Jul\": 0.59, \"Aug\": 0.63, \"Sep\": 0.59, \"Oct\": 0.69, \"Nov\": 0.78, \"Dec\": 0.46, \"J-D\": 0.7, \"D-N\": \".71\", \"DJF\": \".73\", \"MAM\": 0.83, \"JJA\": 0.62, \"SON\": 0.68}, {\"Year\": 2011, \"Jan\": 0.49, \"Feb\": 0.51, \"Mar\": 0.62, \"Apr\": 0.62, \"May\": 0.5, \"Jun\": 0.56, \"Jul\": 0.71, \"Aug\": 0.71, \"Sep\": 0.54, \"Oct\": 0.63, \"Nov\": 0.55, \"Dec\": 0.53, \"J-D\": 0.58, \"D-N\": \".57\", \"DJF\": \".48\", \"MAM\": 0.58, \"JJA\": 0.66, \"SON\": 0.57}, {\"Year\": 2012, \"Jan\": 0.45, \"Feb\": 0.47, \"Mar\": 0.56, \"Apr\": 0.67, \"May\": 0.74, \"Jun\": 0.62, \"Jul\": 0.54, \"Aug\": 0.6, \"Sep\": 0.72, \"Oct\": 0.75, \"Nov\": 0.74, \"Dec\": 0.52, \"J-D\": 0.61, \"D-N\": \".61\", \"DJF\": \".48\", \"MAM\": 0.66, \"JJA\": 0.59, \"SON\": 0.73}, {\"Year\": 2013, \"Jan\": 0.66, \"Feb\": 0.55, \"Mar\": 0.66, \"Apr\": 0.52, \"May\": 0.57, \"Jun\": 0.65, \"Jul\": 0.57, \"Aug\": 0.65, \"Sep\": 0.76, \"Oct\": 0.67, \"Nov\": 0.78, \"Dec\": 0.65, \"J-D\": 0.64, \"D-N\": \".63\", \"DJF\": \".58\", \"MAM\": 0.58, \"JJA\": 0.63, \"SON\": 0.74}, {\"Year\": 2014, \"Jan\": 0.73, \"Feb\": 0.52, \"Mar\": 0.76, \"Apr\": 0.77, \"May\": 0.85, \"Jun\": 0.66, \"Jul\": 0.56, \"Aug\": 0.8, \"Sep\": 0.88, \"Oct\": 0.81, \"Nov\": 0.66, \"Dec\": 0.78, \"J-D\": 0.73, \"D-N\": \".72\", \"DJF\": \".63\", \"MAM\": 0.79, \"JJA\": 0.67, \"SON\": 0.78}, {\"Year\": 2015, \"Jan\": 0.81, \"Feb\": 0.87, \"Mar\": 0.9, \"Apr\": 0.74, \"May\": 0.75, \"Jun\": 0.79, \"Jul\": 0.71, \"Aug\": 0.79, \"Sep\": 0.81, \"Oct\": 1.07, \"Nov\": 1.02, \"Dec\": 1.1, \"J-D\": 0.86, \"D-N\": \".84\", \"DJF\": \".82\", \"MAM\": 0.8, \"JJA\": 0.76, \"SON\": 0.97}, {\"Year\": 2016, \"Jan\": 1.15, \"Feb\": 1.34, \"Mar\": 1.3, \"Apr\": 1.07, \"May\": 0.9, \"Jun\": 0.78, \"Jul\": 0.82, \"Aug\": 0.99, \"Sep\": 0.87, \"Oct\": 0.89, \"Nov\": 0.9, \"Dec\": 0.82, \"J-D\": 0.99, \"D-N\": \"1.01\", \"DJF\": \"1.19\", \"MAM\": 1.09, \"JJA\": 0.86, \"SON\": 0.88}, {\"Year\": 2017, \"Jan\": 0.96, \"Feb\": 1.11, \"Mar\": 1.13, \"Apr\": 0.93, \"May\": 0.88, \"Jun\": 0.7, \"Jul\": 0.81, \"Aug\": 0.86, \"Sep\": 0.74, \"Oct\": 0.88, \"Nov\": 0.87, \"Dec\": 0.89, \"J-D\": 0.9, \"D-N\": \".89\", \"DJF\": \".96\", \"MAM\": 0.98, \"JJA\": 0.79, \"SON\": 0.83}], \"data-7a308401a6c4dd4e370c4729ef7bbfe2\": [{\"y\": -0.22849999999999998}], \"data-b47fb05836352c68f302dae248cf58f3\": [{\"X\": 1885, \"Y\": 0.89}], \"data-3e1c78bd25d70dd2cb1bc499fe586176\": [{\"X\": 2020, \"Y\": -0.27}], \"data-9822e5aeddffd11f0a1c965d307d6fb6\": [{\"X\": 2020, \"Y\": -0.15}], \"data-af999379bd3cab571051fd1cb6c99a9b\": [{\"Year\": 2016, \"Jan\": 1.15, \"Feb\": 1.34, \"Mar\": 1.3, \"Apr\": 1.07, \"May\": 0.9, \"Jun\": 0.78, \"Jul\": 0.82, \"Aug\": 0.99, \"Sep\": 0.87, \"Oct\": 0.89, \"Nov\": 0.9, \"Dec\": 0.82, \"J-D\": 0.99, \"D-N\": \"1.01\", \"DJF\": \"1.19\", \"MAM\": 1.09, \"JJA\": 0.86, \"SON\": 0.88}], \"data-a5ded0b48a0ceaa600ea7ebe2dc2ffd7\": [{\"Year\": 1904, \"Jan\": -0.67, \"Feb\": -0.59, \"Mar\": -0.51, \"Apr\": -0.55, \"May\": -0.56, \"Jun\": -0.51, \"Jul\": -0.54, \"Aug\": -0.51, \"Sep\": -0.53, \"Oct\": -0.4, \"Nov\": -0.22, \"Dec\": -0.35, \"J-D\": -0.49, \"D-N\": \"-.51\", \"DJF\": \"-.60\", \"MAM\": -0.54, \"JJA\": -0.52, \"SON\": -0.38}, {\"Year\": 1998, \"Jan\": 0.6, \"Feb\": 0.9, \"Mar\": 0.63, \"Apr\": 0.63, \"May\": 0.69, \"Jun\": 0.77, \"Jul\": 0.68, \"Aug\": 0.66, \"Sep\": 0.41, \"Oct\": 0.44, \"Nov\": 0.49, \"Dec\": 0.56, \"J-D\": 0.62, \"D-N\": \".62\", \"DJF\": \".69\", \"MAM\": 0.65, \"JJA\": 0.7, \"SON\": 0.45}], \"data-837c41dbc42138c8728fee56f06d7093\": [{\"Year\": 1944, \"Jan\": 0.35, \"Feb\": 0.26, \"Mar\": 0.26, \"Apr\": 0.19, \"May\": 0.19, \"Jun\": 0.2, \"Jul\": 0.18, \"Aug\": 0.17, \"Sep\": 0.3, \"Oct\": 0.25, \"Nov\": 0.1, \"Dec\": 0.02, \"J-D\": 0.21, \"D-N\": \".23\", \"DJF\": \".29\", \"MAM\": 0.22, \"JJA\": 0.18, \"SON\": 0.22}, {\"Year\": 2014, \"Jan\": 0.73, \"Feb\": 0.52, \"Mar\": 0.76, \"Apr\": 0.77, \"May\": 0.85, \"Jun\": 0.66, \"Jul\": 0.56, \"Aug\": 0.8, \"Sep\": 0.88, \"Oct\": 0.81, \"Nov\": 0.66, \"Dec\": 0.78, \"J-D\": 0.73, \"D-N\": \".72\", \"DJF\": \".63\", \"MAM\": 0.79, \"JJA\": 0.67, \"SON\": 0.78}, {\"Year\": 2015, \"Jan\": 0.81, \"Feb\": 0.87, \"Mar\": 0.9, \"Apr\": 0.74, \"May\": 0.75, \"Jun\": 0.79, \"Jul\": 0.71, \"Aug\": 0.79, \"Sep\": 0.81, \"Oct\": 1.07, \"Nov\": 1.02, \"Dec\": 1.1, \"J-D\": 0.86, \"D-N\": \".84\", \"DJF\": \".82\", \"MAM\": 0.8, \"JJA\": 0.76, \"SON\": 0.97}, {\"Year\": 2017, \"Jan\": 0.96, \"Feb\": 1.11, \"Mar\": 1.13, \"Apr\": 0.93, \"May\": 0.88, \"Jun\": 0.7, \"Jul\": 0.81, \"Aug\": 0.86, \"Sep\": 0.74, \"Oct\": 0.88, \"Nov\": 0.87, \"Dec\": 0.89, \"J-D\": 0.9, \"D-N\": \".89\", \"DJF\": \".96\", \"MAM\": 0.98, \"JJA\": 0.79, \"SON\": 0.83}]}}, {\"mode\": \"vega-lite\"});\n",
       "</script>"
      ],
      "text/plain": [
       "alt.LayerChart(...)"
      ]
     },
     "execution_count": 114,
     "metadata": {},
     "output_type": "execute_result"
    }
   ],
   "source": [
    "(mainChart+line_chart+chart_title+colder_text+hotter_text+bold_text+text_left+text_right).properties(width = 950, height = 500, background = 'white', padding = 25).configure_view(\n",
    "    strokeWidth=0)"
   ]
  },
  {
   "cell_type": "code",
   "execution_count": null,
   "id": "181ca7b1-6c83-46f9-99ab-3708b3b7a3f2",
   "metadata": {},
   "outputs": [],
   "source": []
  }
 ],
 "metadata": {
  "colab": {
   "name": "Welcome to DataCamp Workspaces.ipynb",
   "provenance": []
  },
  "kernelspec": {
   "display_name": "Python 3 (ipykernel)",
   "language": "python",
   "name": "python3"
  },
  "language_info": {
   "codemirror_mode": {
    "name": "ipython",
    "version": 3
   },
   "file_extension": ".py",
   "mimetype": "text/x-python",
   "name": "python",
   "nbconvert_exporter": "python",
   "pygments_lexer": "ipython3",
   "version": "3.8.10"
  }
 },
 "nbformat": 4,
 "nbformat_minor": 5
}
